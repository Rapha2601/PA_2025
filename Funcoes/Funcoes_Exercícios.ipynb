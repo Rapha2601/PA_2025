{
  "nbformat": 4,
  "nbformat_minor": 0,
  "metadata": {
    "colab": {
      "provenance": [],
      "include_colab_link": true
    },
    "kernelspec": {
      "name": "python3",
      "display_name": "Python 3"
    },
    "language_info": {
      "name": "python"
    }
  },
  "cells": [
    {
      "cell_type": "markdown",
      "metadata": {
        "id": "view-in-github",
        "colab_type": "text"
      },
      "source": [
        "<a href=\"https://colab.research.google.com/github/Rapha2601/PA_2025/blob/main/Funcoes/Funcoes_Exerc%C3%ADcios.ipynb\" target=\"_parent\"><img src=\"https://colab.research.google.com/assets/colab-badge.svg\" alt=\"Open In Colab\"/></a>"
      ]
    },
    {
      "cell_type": "markdown",
      "source": [
        "#Estou definindo as funções sem retorno\n",
        "\n"
      ],
      "metadata": {
        "id": "xniWxQwZNioY"
      }
    },
    {
      "cell_type": "code",
      "execution_count": null,
      "metadata": {
        "id": "jaFsUVnEMRjS"
      },
      "outputs": [],
      "source": [
        "def soma(x,y):\n",
        "  total= x+y\n",
        "  print(total)\n",
        "\n",
        "def diminuir(x,y):\n",
        "  subtrai = x-y\n",
        "  print(subtrai)"
      ]
    },
    {
      "cell_type": "markdown",
      "source": [
        "#Agora vou chamar as funções"
      ],
      "metadata": {
        "id": "kI12e29lNnjX"
      }
    },
    {
      "cell_type": "code",
      "source": [
        "valor1= float(input(\"Digite o primeiro valor: \"))\n",
        "valor2= float(input(\"Digite o segundo valor: \"))\n",
        "soma(valor1,valor2)\n",
        "diminuir(valor1,valor2)\n",
        "print(total,subtrai)"
      ],
      "metadata": {
        "colab": {
          "base_uri": "https://localhost:8080/",
          "height": 245
        },
        "id": "fP2lDvm0NrIE",
        "outputId": "07bb67fd-1e81-4f8d-fe94-21fb243e88cd"
      },
      "execution_count": null,
      "outputs": [
        {
          "output_type": "stream",
          "name": "stdout",
          "text": [
            "Digite o primeiro valor: 1\n",
            "Digite o segundo valor: 1\n",
            "2.0\n",
            "0.0\n"
          ]
        },
        {
          "output_type": "error",
          "ename": "NameError",
          "evalue": "name 'total' is not defined",
          "traceback": [
            "\u001b[0;31m---------------------------------------------------------------------------\u001b[0m",
            "\u001b[0;31mNameError\u001b[0m                                 Traceback (most recent call last)",
            "\u001b[0;32m/tmp/ipython-input-1353028887.py\u001b[0m in \u001b[0;36m<cell line: 0>\u001b[0;34m()\u001b[0m\n\u001b[1;32m      3\u001b[0m \u001b[0msoma\u001b[0m\u001b[0;34m(\u001b[0m\u001b[0mvalor1\u001b[0m\u001b[0;34m,\u001b[0m\u001b[0mvalor2\u001b[0m\u001b[0;34m)\u001b[0m\u001b[0;34m\u001b[0m\u001b[0;34m\u001b[0m\u001b[0m\n\u001b[1;32m      4\u001b[0m \u001b[0mdiminuir\u001b[0m\u001b[0;34m(\u001b[0m\u001b[0mvalor1\u001b[0m\u001b[0;34m,\u001b[0m\u001b[0mvalor2\u001b[0m\u001b[0;34m)\u001b[0m\u001b[0;34m\u001b[0m\u001b[0;34m\u001b[0m\u001b[0m\n\u001b[0;32m----> 5\u001b[0;31m \u001b[0mprint\u001b[0m\u001b[0;34m(\u001b[0m\u001b[0mtotal\u001b[0m\u001b[0;34m,\u001b[0m\u001b[0msubtrai\u001b[0m\u001b[0;34m)\u001b[0m\u001b[0;34m\u001b[0m\u001b[0;34m\u001b[0m\u001b[0m\n\u001b[0m",
            "\u001b[0;31mNameError\u001b[0m: name 'total' is not defined"
          ]
        }
      ]
    },
    {
      "cell_type": "markdown",
      "source": [
        "#Estou definindo funções com retorno\n"
      ],
      "metadata": {
        "id": "Z2ohz9HZQm1M"
      }
    },
    {
      "cell_type": "code",
      "source": [
        "def multi(x,y):\n",
        "  total= x*y\n",
        "  return total\n",
        "def divisao(x,y):\n",
        "  total= x/y\n",
        "  return total"
      ],
      "metadata": {
        "id": "nmWXN7AgRZwg"
      },
      "execution_count": null,
      "outputs": []
    },
    {
      "cell_type": "markdown",
      "source": [
        "#Chamando funções com retorno"
      ],
      "metadata": {
        "id": "Lh4KeGV2ST7E"
      }
    },
    {
      "cell_type": "code",
      "source": [
        "valor1= float(input(\"Digite o primeiro valor: \"))\n",
        "valor2= float(input(\"Digite o segundo valor: \"))\n",
        "multiplicacao= multi(valor1, valor2)\n",
        "divisao= divisao(valor1, valor2)\n",
        "\n",
        "print(\"A multiplicação é:\",multiplicacao)\n",
        "print(\"O Resultado da divisão é:\",divisao)"
      ],
      "metadata": {
        "colab": {
          "base_uri": "https://localhost:8080/"
        },
        "id": "jSLQ9gl-SWxa",
        "outputId": "c4857386-fb3b-4d63-e2a7-5473c4bca3f1"
      },
      "execution_count": null,
      "outputs": [
        {
          "output_type": "stream",
          "name": "stdout",
          "text": [
            "Digite o primeiro valor: 1\n",
            "Digite o segundo valor: 2\n",
            "A multiplicação é: 2.0\n",
            "O Resultado da divisão é: 0.5\n"
          ]
        }
      ]
    },
    {
      "cell_type": "markdown",
      "source": [
        "#Funções sem retorno e sem parâmetro"
      ],
      "metadata": {
        "id": "sZ72skDoU32g"
      }
    },
    {
      "cell_type": "code",
      "source": [
        "def saudacao():\n",
        "  print(\"Olá! Seja bem-vindo(a) ao curso de Python!\")"
      ],
      "metadata": {
        "id": "6iO-mh_qU9vS"
      },
      "execution_count": null,
      "outputs": []
    },
    {
      "cell_type": "code",
      "source": [
        "saudacao()"
      ],
      "metadata": {
        "colab": {
          "base_uri": "https://localhost:8080/"
        },
        "id": "qJXK3yPgVBhv",
        "outputId": "5df1417a-938d-49cb-b1b5-802dcafdb795"
      },
      "execution_count": null,
      "outputs": [
        {
          "output_type": "stream",
          "name": "stdout",
          "text": [
            "Olá! Seja bem-vindo(a) ao curso de Python!\n"
          ]
        }
      ]
    },
    {
      "cell_type": "code",
      "source": [
        "from datetime import datetime\n",
        "\n",
        "def mostrar_horario():\n",
        "    agora = datetime.now()\n",
        "    print(f\"Horário atual: {agora.strftime('%H:%M:%S')}\")"
      ],
      "metadata": {
        "id": "MY6W72fyW-MM"
      },
      "execution_count": null,
      "outputs": []
    },
    {
      "cell_type": "code",
      "source": [
        "mostrar_horario()"
      ],
      "metadata": {
        "colab": {
          "base_uri": "https://localhost:8080/"
        },
        "id": "gRGHBsCnXBT-",
        "outputId": "89d28725-8f32-4f28-db49-e0ff1273c81d"
      },
      "execution_count": null,
      "outputs": [
        {
          "output_type": "stream",
          "name": "stdout",
          "text": [
            "Horário atual: 18:50:07\n"
          ]
        }
      ]
    },
    {
      "cell_type": "markdown",
      "source": [
        "#Função com parâmetro e sem retorno\n"
      ],
      "metadata": {
        "id": "V7y2rhh2Yjay"
      }
    },
    {
      "cell_type": "code",
      "source": [
        "def apresentar(nome):\n",
        "  print(f\"Olá, {nome}! Prazer em te conhecer.\")"
      ],
      "metadata": {
        "id": "fmUQ7JhdYn7C"
      },
      "execution_count": null,
      "outputs": []
    },
    {
      "cell_type": "code",
      "source": [
        "nome= input(\"Digite seu nome: \")\n",
        "apresentar(nome)"
      ],
      "metadata": {
        "colab": {
          "base_uri": "https://localhost:8080/"
        },
        "id": "01C48olwZAUA",
        "outputId": "1cddec2b-ce20-48e2-869c-479e7e013f6e"
      },
      "execution_count": null,
      "outputs": [
        {
          "output_type": "stream",
          "name": "stdout",
          "text": [
            "Digite seu nome: io\n",
            "Olá, io! Prazer em te conhecer.\n"
          ]
        }
      ]
    },
    {
      "cell_type": "code",
      "source": [
        "def verificar_paridade(numero):\n",
        "  if numero % 2 == 0:\n",
        "    print(f\"O número {numero} é PAR!\")\n",
        "  else:\n",
        "    print(f\"O número {numero} é ÍMPAR\")\n",
        "\n",
        "verificar_paridade(7)\n",
        "verificar_paridade(12)"
      ],
      "metadata": {
        "colab": {
          "base_uri": "https://localhost:8080/"
        },
        "id": "Ptrtkb8XaDGl",
        "outputId": "3de9cb7e-dfa8-45fd-fa72-c7d4eeae5cd4"
      },
      "execution_count": null,
      "outputs": [
        {
          "output_type": "stream",
          "name": "stdout",
          "text": [
            "O número 7 é ÍMPAR\n",
            "O número 12 é PAR!\n"
          ]
        }
      ]
    },
    {
      "cell_type": "code",
      "source": [
        "def boas_vindas(nome, curso):\n",
        "  print(f\"Olá, {nome}! Seja Bem Vindo ao Curso de {curso}\")\n",
        "\n",
        "nome= input(\"Digite seu nome: \")\n",
        "curso= \"Programação\"\n",
        "boas_vindas(nome,curso)"
      ],
      "metadata": {
        "colab": {
          "base_uri": "https://localhost:8080/",
          "height": 373
        },
        "id": "yHfNOw9Fa8oR",
        "outputId": "4b401cde-1e7d-4339-bfe7-a47b7e7730f8"
      },
      "execution_count": null,
      "outputs": [
        {
          "output_type": "error",
          "ename": "KeyboardInterrupt",
          "evalue": "Interrupted by user",
          "traceback": [
            "\u001b[0;31m---------------------------------------------------------------------------\u001b[0m",
            "\u001b[0;31mKeyboardInterrupt\u001b[0m                         Traceback (most recent call last)",
            "\u001b[0;32m/tmp/ipython-input-3666661977.py\u001b[0m in \u001b[0;36m<cell line: 0>\u001b[0;34m()\u001b[0m\n\u001b[1;32m      2\u001b[0m   \u001b[0mprint\u001b[0m\u001b[0;34m(\u001b[0m\u001b[0;34mf\"Olá, {nome}! Seja Bem Vindo ao Curso de {curso}\"\u001b[0m\u001b[0;34m)\u001b[0m\u001b[0;34m\u001b[0m\u001b[0;34m\u001b[0m\u001b[0m\n\u001b[1;32m      3\u001b[0m \u001b[0;34m\u001b[0m\u001b[0m\n\u001b[0;32m----> 4\u001b[0;31m \u001b[0mnome\u001b[0m\u001b[0;34m=\u001b[0m \u001b[0minput\u001b[0m\u001b[0;34m(\u001b[0m\u001b[0;34m\"Digite seu nome: \"\u001b[0m\u001b[0;34m)\u001b[0m\u001b[0;34m\u001b[0m\u001b[0;34m\u001b[0m\u001b[0m\n\u001b[0m\u001b[1;32m      5\u001b[0m \u001b[0mcurso\u001b[0m\u001b[0;34m=\u001b[0m \u001b[0;34m\"Programação\"\u001b[0m\u001b[0;34m\u001b[0m\u001b[0;34m\u001b[0m\u001b[0m\n\u001b[1;32m      6\u001b[0m \u001b[0mboas_vindas\u001b[0m\u001b[0;34m(\u001b[0m\u001b[0mnome\u001b[0m\u001b[0;34m,\u001b[0m\u001b[0mcurso\u001b[0m\u001b[0;34m)\u001b[0m\u001b[0;34m\u001b[0m\u001b[0;34m\u001b[0m\u001b[0m\n",
            "\u001b[0;32m/usr/local/lib/python3.12/dist-packages/ipykernel/kernelbase.py\u001b[0m in \u001b[0;36mraw_input\u001b[0;34m(self, prompt)\u001b[0m\n\u001b[1;32m   1175\u001b[0m                 \u001b[0;34m\"raw_input was called, but this frontend does not support input requests.\"\u001b[0m\u001b[0;34m\u001b[0m\u001b[0;34m\u001b[0m\u001b[0m\n\u001b[1;32m   1176\u001b[0m             )\n\u001b[0;32m-> 1177\u001b[0;31m         return self._input_request(\n\u001b[0m\u001b[1;32m   1178\u001b[0m             \u001b[0mstr\u001b[0m\u001b[0;34m(\u001b[0m\u001b[0mprompt\u001b[0m\u001b[0;34m)\u001b[0m\u001b[0;34m,\u001b[0m\u001b[0;34m\u001b[0m\u001b[0;34m\u001b[0m\u001b[0m\n\u001b[1;32m   1179\u001b[0m             \u001b[0mself\u001b[0m\u001b[0;34m.\u001b[0m\u001b[0m_parent_ident\u001b[0m\u001b[0;34m[\u001b[0m\u001b[0;34m\"shell\"\u001b[0m\u001b[0;34m]\u001b[0m\u001b[0;34m,\u001b[0m\u001b[0;34m\u001b[0m\u001b[0;34m\u001b[0m\u001b[0m\n",
            "\u001b[0;32m/usr/local/lib/python3.12/dist-packages/ipykernel/kernelbase.py\u001b[0m in \u001b[0;36m_input_request\u001b[0;34m(self, prompt, ident, parent, password)\u001b[0m\n\u001b[1;32m   1217\u001b[0m             \u001b[0;32mexcept\u001b[0m \u001b[0mKeyboardInterrupt\u001b[0m\u001b[0;34m:\u001b[0m\u001b[0;34m\u001b[0m\u001b[0;34m\u001b[0m\u001b[0m\n\u001b[1;32m   1218\u001b[0m                 \u001b[0;31m# re-raise KeyboardInterrupt, to truncate traceback\u001b[0m\u001b[0;34m\u001b[0m\u001b[0;34m\u001b[0m\u001b[0m\n\u001b[0;32m-> 1219\u001b[0;31m                 \u001b[0;32mraise\u001b[0m \u001b[0mKeyboardInterrupt\u001b[0m\u001b[0;34m(\u001b[0m\u001b[0;34m\"Interrupted by user\"\u001b[0m\u001b[0;34m)\u001b[0m \u001b[0;32mfrom\u001b[0m \u001b[0;32mNone\u001b[0m\u001b[0;34m\u001b[0m\u001b[0;34m\u001b[0m\u001b[0m\n\u001b[0m\u001b[1;32m   1220\u001b[0m             \u001b[0;32mexcept\u001b[0m \u001b[0mException\u001b[0m\u001b[0;34m:\u001b[0m\u001b[0;34m\u001b[0m\u001b[0;34m\u001b[0m\u001b[0m\n\u001b[1;32m   1221\u001b[0m                 \u001b[0mself\u001b[0m\u001b[0;34m.\u001b[0m\u001b[0mlog\u001b[0m\u001b[0;34m.\u001b[0m\u001b[0mwarning\u001b[0m\u001b[0;34m(\u001b[0m\u001b[0;34m\"Invalid Message:\"\u001b[0m\u001b[0;34m,\u001b[0m \u001b[0mexc_info\u001b[0m\u001b[0;34m=\u001b[0m\u001b[0;32mTrue\u001b[0m\u001b[0;34m)\u001b[0m\u001b[0;34m\u001b[0m\u001b[0;34m\u001b[0m\u001b[0m\n",
            "\u001b[0;31mKeyboardInterrupt\u001b[0m: Interrupted by user"
          ]
        }
      ]
    },
    {
      "cell_type": "markdown",
      "source": [
        "#Função sem Parâmetro e com Retorno"
      ],
      "metadata": {
        "id": "t1OfShVLb5na"
      }
    },
    {
      "cell_type": "code",
      "source": [
        "def mensagem():\n",
        "  return \"Hoje é um ótimo dia para programar!\""
      ],
      "metadata": {
        "id": "hdRnoignb45G"
      },
      "execution_count": null,
      "outputs": []
    },
    {
      "cell_type": "code",
      "source": [
        "mensagem()"
      ],
      "metadata": {
        "colab": {
          "base_uri": "https://localhost:8080/",
          "height": 35
        },
        "id": "zvV8ObeEcHpe",
        "outputId": "3d769bf1-bd6c-4820-caf8-1ffc7da755f1"
      },
      "execution_count": null,
      "outputs": [
        {
          "output_type": "execute_result",
          "data": {
            "text/plain": [
              "'Hoje é um ótimo dia para programar!'"
            ],
            "application/vnd.google.colaboratory.intrinsic+json": {
              "type": "string"
            }
          },
          "metadata": {},
          "execution_count": 39
        }
      ]
    },
    {
      "cell_type": "code",
      "source": [
        "usar= mensagem()\n",
        "print(\"É sexta,\",usar)"
      ],
      "metadata": {
        "colab": {
          "base_uri": "https://localhost:8080/"
        },
        "id": "ha_qcUGqcsIC",
        "outputId": "10f19cab-9c0d-47c2-f213-7526ed77bd42"
      },
      "execution_count": null,
      "outputs": [
        {
          "output_type": "stream",
          "name": "stdout",
          "text": [
            "É sexta, Hoje é um ótimo dia para programar!\n"
          ]
        }
      ]
    },
    {
      "cell_type": "markdown",
      "source": [
        "#Teste"
      ],
      "metadata": {
        "id": "oivkfc3QpDr8"
      }
    },
    {
      "cell_type": "code",
      "source": [
        "def somadenotas():\n",
        "  nota1= float(input(\"Digite a primeira nota: \"))\n",
        "  nota2= float(input(\"Digite a segunda nota: \"))\n",
        "  nota3= float(input(\"Digite a terceira nota: \"))\n",
        "  total= nota1+nota2+nota3\n",
        "  return total\n",
        "\n",
        "somatresnotas= somadenotas()\n",
        "\n",
        "def medianota():\n",
        "  media= somatresnotas/3\n",
        "  return media\n",
        "\n",
        "mediatresnotas= medianota()\n",
        "\n",
        "print(\"A soma das notas é de\", somatresnotas)\n",
        "print(\"A média das notas é de\", mediatresnotas)"
      ],
      "metadata": {
        "colab": {
          "base_uri": "https://localhost:8080/"
        },
        "id": "ZYOi-_eLnyDk",
        "outputId": "1c244438-1ed5-4a9b-8465-511fe1b74017"
      },
      "execution_count": null,
      "outputs": [
        {
          "output_type": "stream",
          "name": "stdout",
          "text": [
            "Digite a primeira nota: 10 \n",
            "Digite a segunda nota: 8\n",
            "Digite a terceira nota: 7\n",
            "A soma das notas é de 25.0\n",
            "A média das notas é de 8.333333333333334\n"
          ]
        }
      ]
    },
    {
      "cell_type": "markdown",
      "source": [
        "#Função com parâmetro e com retorno"
      ],
      "metadata": {
        "id": "l5EuNF1_qmuO"
      }
    },
    {
      "cell_type": "code",
      "source": [
        "def calcular_total(preco_unitario, quantidade):\n",
        "  preco_unitario = float(input(\"Qual o valor de uma unidade do produto? \"))\n",
        "  quantidade = int(input(\"Quantos produtos vai comprar\"))\n",
        "  total = preco_unitario * quantidade\n",
        "  return total\n"
      ],
      "metadata": {
        "id": "KbT7yjo8qrhM"
      },
      "execution_count": null,
      "outputs": []
    },
    {
      "cell_type": "code",
      "source": [
        "calcular_total(preco_unitario, quantidade)\n"
      ],
      "metadata": {
        "colab": {
          "base_uri": "https://localhost:8080/"
        },
        "id": "htHfFZqTu_pj",
        "outputId": "ba6aff78-2583-4252-de72-11dc61c06835"
      },
      "execution_count": null,
      "outputs": [
        {
          "name": "stdout",
          "output_type": "stream",
          "text": [
            "Qual o valor de uma unidade do produto? 15\n",
            "Quantos produtos vai comprar2\n"
          ]
        },
        {
          "output_type": "execute_result",
          "data": {
            "text/plain": [
              "30.0"
            ]
          },
          "metadata": {},
          "execution_count": 100
        }
      ]
    },
    {
      "cell_type": "code",
      "source": [
        "def IMC(peo, altura):\n",
        "  imc = peso/(altura ** 2)\n",
        "  return imc\n",
        "\n",
        "peso = float(input(\"Qual seu peso?\\n\"))\n",
        "altura = float(input(\"Qual sua altura?\"))\n",
        "\n",
        "resul = IMC(peso, altura)\n",
        "print(f\"seu IMC é: {resul:.2f}\")\n",
        "\n"
      ],
      "metadata": {
        "id": "yv49Ph4gtgUW",
        "colab": {
          "base_uri": "https://localhost:8080/"
        },
        "outputId": "3ff5a288-a0bb-4826-da28-e79b9929c57e"
      },
      "execution_count": 10,
      "outputs": [
        {
          "output_type": "stream",
          "name": "stdout",
          "text": [
            "Qual seu peso?\n",
            "60\n",
            "Qual sua altura?1.80\n",
            "seu IMC é: 18.52\n"
          ]
        }
      ]
    },
    {
      "cell_type": "markdown",
      "source": [
        "#1- Mensagem de Boas-vindas\n",
        "\n",
        "Crie uma função chamada saudacao que não recebe parâmetros e simplesmente imprime na tela a mensagem que você escolher.\n"
      ],
      "metadata": {
        "id": "wXvU5RxqPpGT"
      }
    },
    {
      "cell_type": "code",
      "source": [
        "def saudacao():\n",
        "  print(f\"Boa tarde Professora Cintia pinho\")\n"
      ],
      "metadata": {
        "id": "yYuZonfjPwBQ"
      },
      "execution_count": 23,
      "outputs": []
    },
    {
      "cell_type": "code",
      "source": [
        "saudacao()"
      ],
      "metadata": {
        "colab": {
          "base_uri": "https://localhost:8080/"
        },
        "id": "Xbe3LH6UQmpD",
        "outputId": "3bd1bd73-ebe6-47c9-fdd2-168121aeab13"
      },
      "execution_count": 24,
      "outputs": [
        {
          "output_type": "stream",
          "name": "stdout",
          "text": [
            "Boa tarde Professora Cintia pinho\n"
          ]
        }
      ]
    },
    {
      "cell_type": "markdown",
      "source": [
        "#2- Conversor de Temperatura\n",
        "\n",
        "Crie uma função chamada celsius_para_fahrenheit que recebe uma temperatura em Celsius ($C$) e retorna a temperatura equivalente em Fahrenheit ($F$)."
      ],
      "metadata": {
        "id": "F3krzvN2QpCB"
      }
    },
    {
      "cell_type": "code",
      "source": [
        "def celsius_para_fahrenheit(Celcius):\n",
        "  F = Celsius * 9/5 + 32\n",
        "  return F\n"
      ],
      "metadata": {
        "id": "GliKAYnXQvMP"
      },
      "execution_count": 40,
      "outputs": []
    },
    {
      "cell_type": "code",
      "source": [
        "fah_ = celsius_para_fahrenheit(50)\n",
        "print(f\"Sua temperatura em fahrenheit é: {fah_}\")"
      ],
      "metadata": {
        "colab": {
          "base_uri": "https://localhost:8080/"
        },
        "id": "CQ1qghkwSgu5",
        "outputId": "bb75f5cb-4dd3-4ae3-e229-9bc9ef401778"
      },
      "execution_count": 41,
      "outputs": [
        {
          "output_type": "stream",
          "name": "stdout",
          "text": [
            "Sua temperatura em fahrenheit é: 122.0\n"
          ]
        }
      ]
    },
    {
      "cell_type": "markdown",
      "source": [
        "#3- Mensagem Personalizada\n",
        "\n",
        "Crie uma função chamada boas_vindas_personalizada que recebe um parâmetro nome (string) e imprime uma mensagem de boas-vindas usando esse nome (Ex: \"Olá, [Nome]! Seja bem-vindo.\").Esta função recebe um parâmetro, mas não precisa de um retorno, pois sua finalidade é apenas a exibição na tela."
      ],
      "metadata": {
        "id": "b4mOTlmDTBzt"
      }
    },
    {
      "cell_type": "code",
      "source": [
        "def boas_vindas_personalizada(nome):\n",
        "  nome\n",
        "  print(f\"Boa tarde {nome}, Seja bem-vindo\")\n"
      ],
      "metadata": {
        "id": "AmbvSSOwTIAV"
      },
      "execution_count": 46,
      "outputs": []
    },
    {
      "cell_type": "code",
      "source": [
        "nome = input(\"Digite seu nome:\\n\")\n",
        "boas_vindas_personalizada(nome)"
      ],
      "metadata": {
        "colab": {
          "base_uri": "https://localhost:8080/"
        },
        "id": "PDDfw253Tlzy",
        "outputId": "49e31d2b-7512-4368-9f12-7639eadfca35"
      },
      "execution_count": 47,
      "outputs": [
        {
          "output_type": "stream",
          "name": "stdout",
          "text": [
            "Digite seu nome:\n",
            "Raphael\n",
            "Boa tarde Raphael, Seja bem-vindo\n"
          ]
        }
      ]
    },
    {
      "cell_type": "markdown",
      "source": [
        "#4- Quadrado e Cubo\n",
        "\n",
        "Crie uma função chamada calcular_potencias que recebe um número n e retorna o quadrado e o cubo desse número em uma tupla.\n",
        "\n",
        "A função deve retornar dois valores. Lembre-se que em Python, você pode retornar múltiplos valores, que são automaticamente empacotados em uma tupla."
      ],
      "metadata": {
        "id": "tR_91Ud6UJbp"
      }
    },
    {
      "cell_type": "code",
      "source": [
        "def calcular_pot(n):\n",
        "  quad = n**2\n",
        "  cubo = n**3\n",
        "  return quad, cubo"
      ],
      "metadata": {
        "id": "WvEvQtO9UT4D"
      },
      "execution_count": 48,
      "outputs": []
    },
    {
      "cell_type": "code",
      "source": [
        "n = int(input(\"Insira o numero aqui: \"))\n",
        "Resultado = calcular_pot(n)\n",
        "print(f\"o quadrado e o cubo deste número é: {Resultado}\")\n"
      ],
      "metadata": {
        "colab": {
          "base_uri": "https://localhost:8080/"
        },
        "id": "X5xLbK_BU5NV",
        "outputId": "72f5c967-0130-455f-cf61-649c62dde4a1"
      },
      "execution_count": 52,
      "outputs": [
        {
          "output_type": "stream",
          "name": "stdout",
          "text": [
            "Insira o numero aqui: 5\n",
            "o quadrado e o cubo deste número é: (25, 125)\n"
          ]
        }
      ]
    },
    {
      "cell_type": "markdown",
      "source": [
        "#5- Contagem Regressiva\n",
        "\n",
        "Crie uma função chamada contagem_regressiva que recebe um número inteiro inicio e imprime todos os números de inicio até 1.\n",
        "\n",
        "Use um laço de repetição (for ou while) para iterar e imprimir os números sequencialmente. Não é necessário retornar nada."
      ],
      "metadata": {
        "id": "Ek0E5F2oVnGi"
      }
    },
    {
      "cell_type": "code",
      "source": [
        "def contagem_regressiva():\n",
        "  iniciar = int(input(\"Digite o numero de início da contagem: \"))\n",
        "\n",
        "  for i in range(iniciar, 0, -1):\n",
        "    print(i)\n"
      ],
      "metadata": {
        "id": "DlolixZVVubU"
      },
      "execution_count": 72,
      "outputs": []
    },
    {
      "cell_type": "code",
      "source": [
        "contagem_regressiva()"
      ],
      "metadata": {
        "colab": {
          "base_uri": "https://localhost:8080/"
        },
        "id": "-BfZ41HvWZn2",
        "outputId": "2aa91704-2e88-4128-868e-b3c23a8c48e2"
      },
      "execution_count": 73,
      "outputs": [
        {
          "output_type": "stream",
          "name": "stdout",
          "text": [
            "Digite o numero de início da contagem: 10\n",
            "10\n",
            "9\n",
            "8\n",
            "7\n",
            "6\n",
            "5\n",
            "4\n",
            "3\n",
            "2\n",
            "1\n"
          ]
        }
      ]
    },
    {
      "cell_type": "markdown",
      "source": [
        "#6- Cálculo de Desconto\n",
        "\n",
        "Desenvolva uma função chamada calcular_desconto que aceita valor_original e percentual_desconto como parâmetros e retorna o valor final após aplicar o desconto."
      ],
      "metadata": {
        "id": "2lFRD0g6W1Xt"
      }
    },
    {
      "cell_type": "code",
      "source": [
        "def calcular_desconto(valor_orig, percentual_desc):\n",
        "  Valor_Final = valor_orig * (1-percentual_desc/100)\n",
        "  return Valor_Final"
      ],
      "metadata": {
        "id": "XsTiwWh6W6zx"
      },
      "execution_count": 74,
      "outputs": []
    },
    {
      "cell_type": "code",
      "source": [
        "Final = calcular_desconto(100, 10)\n",
        "print(f\"Com o desconto seu produto sai por: {Final}\")"
      ],
      "metadata": {
        "colab": {
          "base_uri": "https://localhost:8080/"
        },
        "id": "aD6DSCNHXoU3",
        "outputId": "7319fb2c-e135-442e-fd21-7371b100dda6"
      },
      "execution_count": 77,
      "outputs": [
        {
          "output_type": "stream",
          "name": "stdout",
          "text": [
            "Com o desconto seu produto sai por: 90.0\n"
          ]
        }
      ]
    },
    {
      "cell_type": "markdown",
      "source": [
        "#7- Maior e Menor\n",
        "\n",
        "Crie uma função chamada encontrar_extremos que recebe uma lista de números e retorna o maior e o menor número da lista.\n",
        "\n",
        "Você pode explorar as funções nativas do Python max() e min() para uma solução concisa, ou implementar a lógica de comparação manualmente."
      ],
      "metadata": {
        "id": "MZNvSeiAYehZ"
      }
    },
    {
      "cell_type": "code",
      "source": [
        "def extremos(list):\n",
        "  maior = max(list)\n",
        "  menor = min(list)\n",
        "  return maior, menor"
      ],
      "metadata": {
        "id": "wG4G_0WwYleH"
      },
      "execution_count": 79,
      "outputs": []
    },
    {
      "cell_type": "code",
      "source": [
        "num = [2, 4, 3, 8, 5, 6, 10, 13]\n",
        "maior, menor = extremos(num)\n",
        "print(f\"Seu maior é: {maior}\\nE seu menor é: {menor}\")"
      ],
      "metadata": {
        "colab": {
          "base_uri": "https://localhost:8080/"
        },
        "id": "qmnjqM75ZDHx",
        "outputId": "e97badba-0032-408d-eee7-100e06cec5e1"
      },
      "execution_count": 83,
      "outputs": [
        {
          "output_type": "stream",
          "name": "stdout",
          "text": [
            "Seu maior é: 13\n",
            "E seu menor é: 2\n"
          ]
        }
      ]
    },
    {
      "cell_type": "markdown",
      "source": [
        "#8- Calculadora Simples\n",
        "\n",
        "Crie uma função chamada calculadora que recebe dois números (a e b) e uma operacao (string: 'soma', 'subtracao', 'multiplicacao', 'divisao') e retorna o resultado da operação.\n",
        "\n",
        "Use estruturas condicionais (if/elif/else) para determinar qual cálculo realizar e adicione uma verificação para evitar divisão por zero."
      ],
      "metadata": {
        "id": "KZf34dcLX_Jx"
      }
    },
    {
      "cell_type": "code",
      "source": [
        "def calculadora(a,b):\n",
        "  operacao = str(input(\"Digite, 'soma', 'subtração', 'multiplicação' ou 'divisão' \"))\n",
        "  if operacao == 'soma':\n",
        "    prod = a + b\n",
        "    print(prod)\n",
        "\n",
        "  elif operacao == 'subtração':\n",
        "    prod = a - b\n",
        "    print(prod)\n",
        "\n",
        "\n",
        "  elif operacao == 'multiplicação':\n",
        "    prod = a*b\n",
        "    print(prod)\n",
        "\n",
        "\n",
        "  elif operacao == 'divisão':\n",
        "    prod = a/b\n",
        "    print(prod)\n",
        "\n",
        "    return prod"
      ],
      "metadata": {
        "id": "qjtoUczWYI9z"
      },
      "execution_count": 109,
      "outputs": []
    },
    {
      "cell_type": "code",
      "source": [
        "calculadora(4,2)"
      ],
      "metadata": {
        "colab": {
          "base_uri": "https://localhost:8080/"
        },
        "id": "4DjZMYngcTAO",
        "outputId": "24daca00-08c4-45f7-9d9c-02961717ceb7"
      },
      "execution_count": 110,
      "outputs": [
        {
          "output_type": "stream",
          "name": "stdout",
          "text": [
            "Digite, 'soma', 'subtração', 'multiplicação' ou 'divisão' soma\n",
            "6\n"
          ]
        }
      ]
    },
    {
      "cell_type": "markdown",
      "source": [
        "#9- Mensagem Automática\n",
        "\n",
        "Crie uma função chamada enviar_email que recebe destinatario e assunto, e opcionalmente um corpo da mensagem. Se o corpo não for fornecido, use um texto padrão como \"Este é um email automático.\"\n",
        "\n",
        "Defina o parâmetro corpo com um valor padrão (default value) na assinatura da função para torná-lo opcional."
      ],
      "metadata": {
        "id": "dyX923F_Zl5r"
      }
    },
    {
      "cell_type": "code",
      "source": [
        "def enviar_email():\n",
        "  dest = input(\"pra quem é o email? \")\n",
        "  assunto = input(\"Assunto do email\")\n",
        "  corpo = input(\"Digite o corpo do texto (opcional)\")\n",
        "\n",
        "  if corpo == \"\":\n",
        "        corpo = \"Este é um email automático.\"\n",
        "        print(\"Destinatário:\", dest)\n",
        "        print(\"Assunto:\", assunto)\n",
        "        print(\"Corpo:\", corpo)\n"
      ],
      "metadata": {
        "id": "vpz0XLgNZtx5"
      },
      "execution_count": 114,
      "outputs": []
    },
    {
      "cell_type": "code",
      "source": [
        "enviar_email()"
      ],
      "metadata": {
        "colab": {
          "base_uri": "https://localhost:8080/"
        },
        "id": "XCexCkiZd8rK",
        "outputId": "a44c553b-8521-4bf1-cd69-028482ec625a"
      },
      "execution_count": 118,
      "outputs": [
        {
          "name": "stdout",
          "output_type": "stream",
          "text": [
            "pra quem é o email? prof cintia pinho\n",
            "Assunto do emailaula de PA\n",
            "Digite o corpo do texto (opcional)Me dá MB por favor\n"
          ]
        }
      ]
    },
    {
      "cell_type": "markdown",
      "source": [
        "##10- Sistema de Notas\n",
        "\n",
        "Desenvolva uma função chamada avaliar_aluno que recebe uma nota (número) e retorna uma string indicando a situação do aluno: \"Aprovado\" (nota $\\ge 7$), \"Recuperação\" ($\\ge 5$ e $< 7$) ou \"Reprovado\" ($< 5$).\n",
        "\n",
        " Lembre-se de usar operadores lógicos como and para definir os intervalos de notas de forma clara.\n",
        "\n",
        "Continue praticando para solidificar seu domínio sobre funções em Python!"
      ],
      "metadata": {
        "id": "0k0TGBRiZ52E"
      }
    },
    {
      "cell_type": "code",
      "source": [
        "def avaliar_aluno(nota):\n",
        "  if nota >= 7:\n",
        "    print(\"Aprovado\")\n",
        "\n",
        "  elif nota >= 5 and nota < 7:\n",
        "    print(\"Recuperação\")\n",
        "\n",
        "  else:\n",
        "    print(\"Reprovado\")"
      ],
      "metadata": {
        "id": "IOp3-9ZjaCS0"
      },
      "execution_count": 84,
      "outputs": []
    },
    {
      "cell_type": "code",
      "source": [
        "avaliar_aluno(7)"
      ],
      "metadata": {
        "colab": {
          "base_uri": "https://localhost:8080/"
        },
        "id": "XDENgic4a3IR",
        "outputId": "4e230524-5748-4e4b-c0fe-d4cf965838e0"
      },
      "execution_count": 92,
      "outputs": [
        {
          "output_type": "stream",
          "name": "stdout",
          "text": [
            "Aprovado\n"
          ]
        }
      ]
    }
  ]
}