{
  "nbformat": 4,
  "nbformat_minor": 0,
  "metadata": {
    "colab": {
      "provenance": [],
      "include_colab_link": true
    },
    "kernelspec": {
      "name": "python3",
      "display_name": "Python 3"
    },
    "language_info": {
      "name": "python"
    }
  },
  "cells": [
    {
      "cell_type": "markdown",
      "metadata": {
        "id": "view-in-github",
        "colab_type": "text"
      },
      "source": [
        "<a href=\"https://colab.research.google.com/github/Rapha2601/PA_2025/blob/main/Operadores_Logicos_e_Relacionais/Lista_de_exercicios.ipynb\" target=\"_parent\"><img src=\"https://colab.research.google.com/assets/colab-badge.svg\" alt=\"Open In Colab\"/></a>"
      ]
    },
    {
      "cell_type": "markdown",
      "source": [
        "# Antes de Qualquer coisa Salve uma cópia no seu drive para não perder os códigos"
      ],
      "metadata": {
        "id": "u7J214bEGDpV"
      }
    },
    {
      "cell_type": "markdown",
      "source": [
        "## vá em arquivos: Salvar uma cópia no Drive"
      ],
      "metadata": {
        "id": "zT3Nb6BfGL56"
      }
    },
    {
      "cell_type": "markdown",
      "source": [
        "#Lista de exercícios - Operadores Lógicos e Relacionais\n",
        "\n"
      ],
      "metadata": {
        "id": "IfPXF-sV3xLF"
      }
    },
    {
      "cell_type": "markdown",
      "source": [
        "Em Python, usamos operadores relacionais e lógicos para fazer comparações e tomar decisões com base em condições. Eles são fundamentais na construção de estruturas de controle como if, while e outras."
      ],
      "metadata": {
        "id": "eIwxJUSq3I9d"
      }
    },
    {
      "cell_type": "markdown",
      "source": [
        "✅ Operadores Relacionais\n",
        "\n",
        "Os operadores relacionais comparam dois valores e retornam um resultado booleano (ou seja, True ou False).\n",
        "\n",
        "**Veja os principais:**\n",
        "\n",
        "\"==\" → verifica se dois valores são iguais\n",
        "\n",
        "\"!=\" → verifica se dois valores são diferentes\n",
        "\n",
        "\">\" → verifica se o valor da esquerda é maior\n",
        "\n",
        "\"<\" → verifica se o valor da esquerda é menor\n",
        "\n",
        "\">=\" → verifica se é maior ou igual\n",
        "\n",
        "\"<=\" → verifica se é menor ou igual\n",
        "\n",
        "✅ Operadores Lógicos\n",
        "\n",
        "Os operadores lógicos são usados para combinar condições. Eles também retornam valores booleanos e são muito úteis quando precisamos verificar mais de uma condição ao mesmo tempo.\n",
        "\n",
        "and (E): Retorna True somente se todas as condições forem verdadeiras\n",
        "\n",
        "or (OU): Retorna True se pelo menos uma das condições for verdadeira\n",
        "\n",
        "not (NÃO): Inverte o valor lógico de uma expressão"
      ],
      "metadata": {
        "id": "wZu_EmmK318x"
      }
    },
    {
      "cell_type": "markdown",
      "source": [
        "## Veja os exemplos abaixo - Execute os códigos um a um para entender, troque os valores para ficar mais fácil o entendimento"
      ],
      "metadata": {
        "id": "8vX8RQvs4dsQ"
      }
    },
    {
      "cell_type": "code",
      "source": [
        "# Operadores Relacionais\n",
        "#  1. Igualdade (==) e Diferença (!=)\n",
        "a = 10\n",
        "b = 5\n",
        "\n",
        "print(a == b)\n",
        "print(a != b)"
      ],
      "metadata": {
        "id": "xNVmeRUMU3OU"
      },
      "execution_count": null,
      "outputs": []
    },
    {
      "cell_type": "markdown",
      "source": [
        "## Aplicação em senhas"
      ],
      "metadata": {
        "id": "5CIZb32GBgh3"
      }
    },
    {
      "cell_type": "code",
      "source": [
        "#entrada\n",
        "senhacerta=\"gostopython\"\n",
        "senha = input(\"Digite a senha: \")\n",
        "#processamento\n",
        "logado = senhacerta == senha\n",
        "#saída\n",
        "print(\"Está logado? \", logado)\n"
      ],
      "metadata": {
        "id": "ihCaXz_WBRNX"
      },
      "execution_count": null,
      "outputs": []
    },
    {
      "cell_type": "code",
      "source": [
        "# 2. Comparações (> , < , >= , <=)\n",
        "x = 8\n",
        "y = 12\n",
        "\n",
        "print(\"X é maior que Y?\", x > y)\n",
        "print(\"X é menor que Y?\",x < y)\n",
        "print(\"X é maior ou igual e Y?\",x >= 8)\n",
        "print(\"X é menor ou igual a Y?\",y <= 10)"
      ],
      "metadata": {
        "id": "fLAmvGGTVhPm"
      },
      "execution_count": null,
      "outputs": []
    },
    {
      "cell_type": "markdown",
      "source": [
        "## aplicação do exemplo anterior mais operador lógico"
      ],
      "metadata": {
        "id": "Vy3Q7wF8Cl40"
      }
    },
    {
      "cell_type": "code",
      "source": [
        "# 3. Operador \"AND\" (E) - Ambos precisam ser verdadeiros\n",
        "idade = 11\n",
        "tem_autorizacao = True\n",
        "\n",
        "podentrar = (idade >= 12 and tem_autorizacao)\n",
        "\n",
        "print(\"Pode entrar no evento?\", podentrar)\n"
      ],
      "metadata": {
        "id": "9dj-xWQ1WOe4"
      },
      "execution_count": null,
      "outputs": []
    },
    {
      "cell_type": "markdown",
      "source": [
        "## Com entrada de dados pelo Teclado"
      ],
      "metadata": {
        "id": "MNGl1vEvCSPN"
      }
    },
    {
      "cell_type": "code",
      "source": [
        "idade = int(input(\"Qual sua idade?\"))\n",
        "autorizacao = input(\"Trouxe autorização do seus responsáveis?\") #resposta tem que ser True ou False\n",
        "\n",
        "podentrar = (idade >= 12 and tem_autorizacao)\n",
        "\n",
        "print(\"Pode entrar no evento?\", podentrar)\n"
      ],
      "metadata": {
        "id": "nSqIDj2u-Rpw"
      },
      "execution_count": null,
      "outputs": []
    },
    {
      "cell_type": "markdown",
      "source": [
        "## outra forma de fazer o mesmo exercício, usando outra entrada de dados\n"
      ],
      "metadata": {
        "id": "uNuVUBkrCXpK"
      }
    },
    {
      "cell_type": "code",
      "source": [
        "idade = int(input(\"Qual sua idade? \"))\n",
        "autorizacao = int(input(\"Trouxe autorização do seus responsáveis?\\nDigite 1 para sim \\nDigite 2 para não: \"))\n",
        "\n",
        "verificacao = autorizacao==1\n",
        "\n",
        "podentrar = (idade >= 12 and verificacao)\n",
        "\n",
        "print(\"Pode entrar no evento?\", podentrar)"
      ],
      "metadata": {
        "id": "711Kvx27-4fm"
      },
      "execution_count": null,
      "outputs": []
    },
    {
      "cell_type": "code",
      "source": [
        "# 4. Operador \"OR\" (OU) - Basta um ser verdadeiro\n",
        "tem_ingresso = False\n",
        "nome_na_lista = False\n",
        "\n",
        "podeentrar = tem_ingresso or nome_na_lista\n",
        "\n",
        "print(\"Pode entrar na festa? \", podeentrar )"
      ],
      "metadata": {
        "id": "pR0TrqcMWx1f"
      },
      "execution_count": null,
      "outputs": []
    },
    {
      "cell_type": "code",
      "source": [
        "# 5. Operador \"NOT\" (NÃO) - Inverte o valor\n",
        "chovendo = True\n",
        "\n",
        "print(not chovendo)"
      ],
      "metadata": {
        "id": "g5C5xYyMW_rZ"
      },
      "execution_count": null,
      "outputs": []
    },
    {
      "cell_type": "code",
      "source": [
        "# 6. Misturando Relacionais + Lógicos\n",
        "nota = 7\n",
        "presenca = 65\n",
        "\n",
        "print(nota >= 6 and presenca >= 75)\n"
      ],
      "metadata": {
        "id": "MCpdGwU1XETi"
      },
      "execution_count": null,
      "outputs": []
    },
    {
      "cell_type": "markdown",
      "source": [
        "##Exemplo: Soma de 3 valores com desconto automático (sem if)\n",
        "\n",
        "O usuário terá desconto se a soma dos valores for maior que R$ 1000,00"
      ],
      "metadata": {
        "id": "t0n3Ajr-Ebfw"
      }
    },
    {
      "cell_type": "code",
      "source": [
        "# 7. com cálculos no meio.\n",
        "\n",
        "# Solicita três valores ao usuário\n",
        "v1 = float(input(\"Digite o valor do primeiro produto: \"))\n",
        "v2 = float(input(\"Digite o valor do segundo produto:  \"))\n",
        "v3 = float(input(\"Digite o valor do terceiro produto:  \"))\n",
        "\n",
        "# Soma total\n",
        "total = v1 + v2 + v3\n",
        "\n",
        "desconto =(total >= 1000)\n",
        "\n",
        "print(\"Vai ter desconto? \", desconto)"
      ],
      "metadata": {
        "id": "GpzpYjATEH_1"
      },
      "execution_count": null,
      "outputs": []
    },
    {
      "cell_type": "markdown",
      "source": [
        "##Seguindo os exemplos anteriores.  Faça os outros em seguida:\n",
        "\n",
        "# Importante: NÃO USE O CONDICIONAL IF. É obrigatório o uso apenas de operadores lógicos, relacioais e variáveis."
      ],
      "metadata": {
        "id": "MIudH-lZ4g35"
      }
    },
    {
      "cell_type": "markdown",
      "source": [
        "1- Solicite ao usuário a idade; Pergunte se está com responsável;\n",
        "\n",
        "Regra: A entrada para o cinema é permitida se a pessoa tiver 14 anos ou mais ou estiver acompanhada de um responsável.\n",
        "\n",
        "Na Saída informa se é True ou False, a possivel entrada no Cinema.\n",
        "\n",
        "Exemplo: Pode entrar no Cinema?....\n",
        "\n",
        "A Resposta esperada sera True ou False"
      ],
      "metadata": {
        "id": "A847ArYB4zIG"
      }
    },
    {
      "cell_type": "code",
      "source": [
        "# Entrada\n",
        "Idade = int(input(\"Qual sua idade? \"))\n",
        "Permissão = input(\"Está acompanhado pelo responsável?\") # reponda \"True\" ou \"False\"\n",
        "\n",
        "# Processamento\n",
        "entrada = (Idade >= 14 or Permissão)\n",
        "\n",
        "# Saída\n",
        "print(\"Pode entrar no cinema?\", entrada)\n"
      ],
      "metadata": {
        "id": "RWkY0IusDp1F",
        "colab": {
          "base_uri": "https://localhost:8080/"
        },
        "outputId": "2ded740e-31bf-4908-8a70-87b38a6ceb32"
      },
      "execution_count": 16,
      "outputs": [
        {
          "output_type": "stream",
          "name": "stdout",
          "text": [
            "Qual sua idade? 10\n",
            "Está acompanhado pelo responsável?False\n",
            "Pode entrar no cinema? False\n"
          ]
        }
      ]
    },
    {
      "cell_type": "markdown",
      "source": [
        "2- Um jogador só recebe promoção se: tiver mais de 1000 pontos OU for assinante premium.\n",
        "* Solicite os pontos na primeira entrada;\n",
        "* Solicite que tipo de assinante ele é;\n",
        "* Na saída informa se é Verdadeiro ou Falso a promoção;"
      ],
      "metadata": {
        "id": "1Z7RsUTF44M5"
      }
    },
    {
      "cell_type": "code",
      "source": [
        "# Entrada\n",
        "Pontos = int(input(\"quantos pontos você tem?\" ))\n",
        "Premium = input(\"É premium?\" ) # reponda True ou False\n",
        "\n",
        "# Processamento\n",
        "desconto = (Pontos >= 1000 or Premium)\n",
        "\n",
        "# Saída\n",
        "print(f\"Tem desconto? {desconto}\")"
      ],
      "metadata": {
        "id": "QRHx7-KtDqVZ",
        "colab": {
          "base_uri": "https://localhost:8080/"
        },
        "outputId": "46858ea3-9219-4de9-bc66-0c232e015d4b"
      },
      "execution_count": 20,
      "outputs": [
        {
          "output_type": "stream",
          "name": "stdout",
          "text": [
            "quantos pontos você tem?2\n",
            "É premium?True\n",
            "Tem desconto? True\n"
          ]
        }
      ]
    },
    {
      "cell_type": "markdown",
      "source": [
        "3- Solicite um valor ao usuário.\n",
        "* Verifique se o número que o usuário digitou está entre 10 e 20\n",
        "* Na saída infome se é verdadeiro ou falso. }Exemplo saída. \"O número está entre 10 e 20\". A resposta será True ou False."
      ],
      "metadata": {
        "id": "tAFfmQ8u459E"
      }
    },
    {
      "cell_type": "code",
      "source": [
        "# Entrada\n",
        "numero = int(input(\"Digite o número aqui\"))\n",
        "\n",
        "# Processamento\n",
        "aceito = (numero >= 10 and numero <= 20 )\n",
        "\n",
        "# Saída\n",
        "print(f\"Está entre 10 e 20? {aceito}\")"
      ],
      "metadata": {
        "id": "6WjvOAV_DqsF",
        "colab": {
          "base_uri": "https://localhost:8080/"
        },
        "outputId": "f176d6ff-a48d-4c34-b0f1-59b77eeedbe4"
      },
      "execution_count": 36,
      "outputs": [
        {
          "output_type": "stream",
          "name": "stdout",
          "text": [
            "Digite o número aqui80\n",
            "Está entre 10 e 20? False\n"
          ]
        }
      ]
    },
    {
      "cell_type": "markdown",
      "source": [
        "4- Solicite a idade da pessoa, e pergunte quanto ela tem em dinheiro.\n",
        "\n",
        "* A pessoa pode fazer uma viagem se: tiver mais de 18 anos E tiver mais de R$ 2000,00\n",
        "\n",
        "* Na Saída informe se é Verdeiro ou falso A possibilidade da Viagem. Exemplo: Vai viajar? - O retorno será True or False"
      ],
      "metadata": {
        "id": "gx_l2c025hNr"
      }
    },
    {
      "cell_type": "code",
      "source": [
        "# Entrada\n",
        "Idade = int(input(\"Qual sua idade?\" ))\n",
        "Dinheiro = float(input(\"Quanto você tem?\" ))\n",
        "\n",
        "# Processamento\n",
        "Viagem = (Idade >= 18 and Dinheiro >= 2000.00)\n",
        "\n",
        "# Saída\n",
        "print(f\"Pode viajar? {Viagem}\")"
      ],
      "metadata": {
        "id": "__EsZX4nDrF8",
        "colab": {
          "base_uri": "https://localhost:8080/"
        },
        "outputId": "22e837a6-18be-46a0-9997-e7d268e33757"
      },
      "execution_count": 26,
      "outputs": [
        {
          "output_type": "stream",
          "name": "stdout",
          "text": [
            "Qual sua idade?15\n",
            "Quanto você tem?2000\n",
            "Pode viajar? False\n"
          ]
        }
      ]
    },
    {
      "cell_type": "markdown",
      "source": [
        "5- Solicite a idade da pessoa, e pergunte quanto ela tem em dinheiro e agora pergunte se ela vai viajar com os pais.\n",
        "\n",
        "* A pessoa pode fazer uma viagem se: (tiver mais de 18 anos E tiver mais de R$ 2000,00) ou se ela estiver com os pais.\n",
        "\n",
        "* Na Saída informe se é Verdeiro ou falso A possibilidade da Viagem. Exemplo: Vai viajar? - O retorno será True or False\n"
      ],
      "metadata": {
        "id": "e4zE89vu6AsO"
      }
    },
    {
      "cell_type": "code",
      "source": [
        "# Entrada\n",
        "Idade = int(input(\"Qual sua idade?\" ))\n",
        "Dinheiro = float(input(\"Quanto você tem?\" ))\n",
        "Pais = input(\"Está com os pais?\" ) # responda True ou False\n",
        "\n",
        "# Processamento\n",
        "Viagem = (Idade >= 18 and Dinheiro >= 2000.00 or Pais)\n",
        "\n",
        "# Saída\n",
        "print(f\"pode viajar? {Viagem}\")"
      ],
      "metadata": {
        "id": "FIj0zQUXDrif",
        "colab": {
          "base_uri": "https://localhost:8080/"
        },
        "outputId": "44d2dcfe-e168-41e9-fa4d-0177269cd5fd"
      },
      "execution_count": 37,
      "outputs": [
        {
          "output_type": "stream",
          "name": "stdout",
          "text": [
            "Qual sua idade?100\n",
            "Quanto você tem?10\n",
            "Está com os pais?True\n",
            "pode viajar? True\n"
          ]
        }
      ]
    },
    {
      "cell_type": "markdown",
      "source": [
        "6-Solicite três notas ao usuário e calcule a média e também solicite quantos dias letivos tem no ano e quantas faltas ele teve.\n",
        "\n",
        "* Calcule a média (somando as notas e dividindo por 3)\n",
        "* Calcule o percential de faltas (Divida a quantidade de faltas pela quantidade de dias letivos e multiplique por 100).\n",
        "* Depois subtraia de 100 esse valor e obterá o percentual de presença\n",
        "\n",
        "Exemplo se o aluno faltou 5 vezes em 100 dias letivos:\n",
        "\n",
        "faltas = 5/100, obterá: 0,05, que multiplicando por 100 será 5.\n",
        "result = faltas * 100. Ou seja, 5% de faltas.\n",
        "\n",
        "percentual = 100 - result. Valor obtido nesse caso será 95, que representa 95%\n",
        "\n",
        "de presença.\n",
        "\n",
        "\n",
        "* Para passar de ano, o aluno precisa de nota maior ou igual a 6 E presença maior ou igual a 75%\n",
        "\n",
        "* Na saída informe se é verdadeiro ou falso que ele irá passar de ano. Exemplo: Vai passar de Ano? Ira ter como resposta: True or False\n"
      ],
      "metadata": {
        "id": "YwP3YbWN41v1"
      }
    },
    {
      "cell_type": "code",
      "source": [
        "# Entrada\n",
        "Faltas = int(input(\"Quantidade de faltas\" ))\n",
        "Aulas = int(input(\"Quanntidade de aulas? \"))\n",
        "nota1 = int(input(\"Qual foi a nota?\"))\n",
        "nota2 = int(input(\"Qual foi a nota?\"))\n",
        "nota3 = int(input(\"Qual foi a nota?\"))\n",
        "\n",
        "# Processamento\n",
        "Media = nota1+nota2+nota3/3\n",
        "Presenca = float(Faltas/Aulas)\n",
        "Percentual = float(Presenca * 100)\n",
        "Presenca2 = 100 - Percentual\n",
        "Passou = (Media >= 6 and Presenca2 >= 75)\n",
        "\n",
        "# Saída\n",
        "print(f\"Passou de ano? {Passou}\")\n"
      ],
      "metadata": {
        "colab": {
          "base_uri": "https://localhost:8080/"
        },
        "id": "Ifho04PdNTHU",
        "outputId": "b74cfa56-39ac-441e-8ff4-11dcf8f9a13e"
      },
      "execution_count": 38,
      "outputs": [
        {
          "output_type": "stream",
          "name": "stdout",
          "text": [
            "Quantidade de faltas20\n",
            "Quanntidade de aulas? 40\n",
            "Qual foi a nota?10\n",
            "Qual foi a nota?10\n",
            "Qual foi a nota?10\n",
            "Passou de ano? False\n"
          ]
        }
      ]
    },
    {
      "cell_type": "markdown",
      "source": [
        "7) Peça para o usuário digitar um valor informe se ele é par ou impar"
      ],
      "metadata": {
        "id": "IOXzmuPgzrUz"
      }
    },
    {
      "cell_type": "code",
      "source": [
        "# Entrada\n",
        "Numero = int(input(\"Qual número?\"))\n",
        "\n",
        "# Processamento\n",
        "Impar = (Numero%2 > 0)\n",
        "Par = (Numero%2 == 0)\n",
        "\n",
        "# Saída\n",
        "print(f\"Impar: {Impar}\")\n",
        "print(f\"Par: {Par}\")"
      ],
      "metadata": {
        "id": "W3s-pjSNzuxj",
        "colab": {
          "base_uri": "https://localhost:8080/"
        },
        "outputId": "ab9f64ba-3524-4e54-cad4-786a86a12fe4"
      },
      "execution_count": null,
      "outputs": [
        {
          "output_type": "stream",
          "name": "stdout",
          "text": [
            "Qual número?3\n",
            "Impar: True\n",
            "Par: False\n"
          ]
        }
      ]
    },
    {
      "cell_type": "markdown",
      "source": [
        "8 ) Faça um algoritmo em Python que receba o valor de três lados de um possível triângulo (l1, l2 e l3) e utilize operadores relacionais e lógicos para:\n",
        "\n",
        "1.\tVerificar se os valores informados podem formar um triângulo.\n",
        "2.\tIdentificar se o triângulo é equilátero, escaleno ou isósceles.\n",
        "\n",
        "O programa deve atribuir True ou False para cada uma das seguintes variáveis:\n",
        "* triangulo: True se os lados puderem formar um triângulo.\n",
        "* equilatero: True se o triângulo for equilátero.\n",
        "* escaleno: True se o triângulo for escaleno.\n",
        "* isosceles: True se o triângulo for isósceles.\n",
        "\n",
        "Dica: Um triângulo só é possível se a soma de dois lados for maior que o terceiro, para os três pares possíveis.\n",
        "\n",
        "Lógica necessária\n",
        "\n",
        "Para ser um triângulo:\n",
        "\n",
        "* l1+l2>l3 e\n",
        "* l1+l3>l2l e\n",
        "* l2+l3>l1\n",
        "\n",
        "Tipos de triângulo:\n",
        "* Equilátero: todos os lados iguais.\n",
        "* Escaleno: todos os lados diferentes.\n",
        "* Isósceles: dois lados iguais."
      ],
      "metadata": {
        "id": "fDwuVk9JzvWr"
      }
    },
    {
      "cell_type": "code",
      "source": [
        "# Entrada\n",
        "Lado1 = float(input(\"Tamanho do primeiro lado?\"))\n",
        "Lado2 = float(input(\"Tamanho do segundo lado?\"))\n",
        "Lado3 = float(input(\"Tamanho do terceiro lado?\"))\n",
        "\n",
        "# Processamento\n",
        "Triangulo = Lado1 + Lado2 >= Lado3 and Lado1 + Lado3 >= Lado2 and Lado2 + Lado3 >= Lado1\n",
        "Equilatero = Lado1 == Lado2 == Lado3\n",
        "Escaleno = Lado1 != Lado2 and Lado1 != Lado3 and Lado2 != Lado3 and Triangulo\n",
        "Isosceles =(Lado1 == Lado2 != Lado3 or Lado1 == Lado3 != Lado2 or Lado2 == Lado3 != Lado1) and Triangulo\n",
        "\n",
        "# Saída\n",
        "print(f\"é um triângulo? {Triangulo}\")\n",
        "print(f\"é um triângulo Equilátero? {Equilatero}\")\n",
        "print(f\"é um triângulo Escaleno? {Escaleno}\")\n",
        "print(f\"é um triângulo Isósceles? {Isosceles}\")"
      ],
      "metadata": {
        "id": "K57FadkSz1DL",
        "colab": {
          "base_uri": "https://localhost:8080/"
        },
        "outputId": "26224e98-e55d-40b0-8497-15971ebb5b04"
      },
      "execution_count": 48,
      "outputs": [
        {
          "output_type": "stream",
          "name": "stdout",
          "text": [
            "Tamanho do primeiro lado?10\n",
            "Tamanho do segundo lado?2\n",
            "Tamanho do terceiro lado?10\n",
            "é um triângulo? True\n",
            "é um triângulo Equilátero? False\n",
            "é um triângulo Escaleno? False\n",
            "é um triângulo Isósceles? True\n"
          ]
        }
      ]
    },
    {
      "cell_type": "markdown",
      "source": [
        "9) Faça um programa que solicite peso e altura, informe seu IMC. Ao final informe se ele está, abaixo do peso,peso ideal ou acima do peso. fórmula do IMC: (peso/altura^2), siga a tabela abaixo:\n",
        "\n",
        "IMC \t                    \n",
        "* Menos do que 18,5 ==> Abaixo do Peso\n",
        "* Entre 18,5 e 24,9  ==>Peso normal\n",
        "* Entre 25 e 29,9  ==> \tSobrepeso\n",
        "* Entre 30 e 34,9  ==> \tObesidade grau 1\n",
        "* Entre 35 e 39,9  ==> \tObesidade grau 2\n",
        "* Mais do que 40 \t  ==> Obesidade grau 3"
      ],
      "metadata": {
        "id": "ymt6F0gqz2E7"
      }
    },
    {
      "cell_type": "code",
      "source": [
        "# Entrada\n",
        "Altura = float(input(\"Qual sua altura? \"))\n",
        "Peso = float(input(\"Qual seu peso? \"))\n",
        "IMC = (Peso/Altura**2)\n",
        "\n",
        "# Processamento\n",
        "Abaixo = (IMC < 18.5)\n",
        "Normal = (18.5 <= IMC <= 24.9)\n",
        "SobrePeso = (25 <= IMC <= 29.9)\n",
        "Obeso1 = (30 <= IMC <= 34.9)\n",
        "Obeso2 = (35 <= IMC <= 39.9)\n",
        "Obeso3 = (IMC > 40)\n",
        "\n",
        "# Saída\n",
        "print(f\"Abaixo: {Abaixo}\")\n",
        "print(f\"Normal: {Normal}\")\n",
        "print(f\"SobrePeso: {SobrePeso}\")\n",
        "print(f\"Obeso1: {Obeso1}\")\n",
        "print(f\"Obeso2: {Obeso2}\")\n",
        "print(f\"Obeso3: {Obeso3}\")"
      ],
      "metadata": {
        "id": "RDkZYCOVz50b",
        "colab": {
          "base_uri": "https://localhost:8080/"
        },
        "outputId": "24fda709-0d2f-4218-9646-bc4bd4f071ce"
      },
      "execution_count": 54,
      "outputs": [
        {
          "output_type": "stream",
          "name": "stdout",
          "text": [
            "Qual sua altura? 1.5\n",
            "Qual seu peso? 100\n",
            "Abaixo: False\n",
            "Normal: False\n",
            "SobrePeso: False\n",
            "Obeso1: False\n",
            "Obeso2: False\n",
            "Obeso3: True\n"
          ]
        }
      ]
    },
    {
      "cell_type": "markdown",
      "source": [
        "10) Faça um programa que solicite altura e idade do usuário, informe se ele pode ou nao competir. Regras: Para competir no campeonato de vôlei o usuário de ter pelo menos 1.75 de altura e 18 anos."
      ],
      "metadata": {
        "id": "29dWEOf3z9hj"
      }
    },
    {
      "cell_type": "code",
      "source": [
        "# Entrada\n",
        "Idade = int(input(\"Qual sua idade?\" ))\n",
        "Altura = float(input(\"Qual sua altura?\" ))\n",
        "\n",
        "# Processamento\n",
        "Aceito = (Idade >= 18 and Altura >= 1.75)\n",
        "\n",
        "# Saída\n",
        "print(f\"Você pode participar? {Aceito}\")"
      ],
      "metadata": {
        "id": "GmDaYiUvz_TZ",
        "colab": {
          "base_uri": "https://localhost:8080/"
        },
        "outputId": "d51d7bec-7e59-443b-a241-73baebff07c7"
      },
      "execution_count": null,
      "outputs": [
        {
          "output_type": "stream",
          "name": "stdout",
          "text": [
            "Qual sua idade?12\n",
            "Qual sua altura?1.50\n",
            "Você pode participar? False\n"
          ]
        }
      ]
    }
  ]
}