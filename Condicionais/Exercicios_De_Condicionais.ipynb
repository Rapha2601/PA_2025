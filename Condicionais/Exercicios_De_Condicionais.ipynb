{
  "nbformat": 4,
  "nbformat_minor": 0,
  "metadata": {
    "colab": {
      "provenance": [],
      "authorship_tag": "ABX9TyMZ/2KPFEgkpCdofRhxilvQ",
      "include_colab_link": true
    },
    "kernelspec": {
      "name": "python3",
      "display_name": "Python 3"
    },
    "language_info": {
      "name": "python"
    }
  },
  "cells": [
    {
      "cell_type": "markdown",
      "metadata": {
        "id": "view-in-github",
        "colab_type": "text"
      },
      "source": [
        "<a href=\"https://colab.research.google.com/github/Rapha2601/PA_2025/blob/main/Condicionais/Exercicios_De_Condicionais.ipynb\" target=\"_parent\"><img src=\"https://colab.research.google.com/assets/colab-badge.svg\" alt=\"Open In Colab\"/></a>"
      ]
    },
    {
      "cell_type": "code",
      "execution_count": null,
      "metadata": {
        "id": "2weUwjMNDOux"
      },
      "outputs": [],
      "source": []
    },
    {
      "cell_type": "markdown",
      "source": [
        "# Tipos de condicionais\n",
        "## Condicionais simples: Possui só 2 possibilidades (True ou False)\n",
        "\n"
      ],
      "metadata": {
        "id": "c6BoqU0YDQPy"
      }
    },
    {
      "cell_type": "code",
      "source": [
        "#Entrada\n",
        "Nota1 = float(input(\"Insira a Nota\"))\n",
        "if (Nota1>=0 and Nota1 <= 10):\n",
        "  print(\"Nota 1 Válida\")\n",
        "else:\n",
        "  print(\"Nota 1 Invávlida, tente novamente\")\n",
        "\n",
        "Nota2 = float(input(\"Insira a Nota\"))\n",
        "if (Nota2>=0 and Nota2 <= 10):\n",
        "  print(\"Nota 2 Válida\")\n",
        "else:\n",
        "  print(\"Nota 2 Invávlida, tente novamente\")\n",
        "\n",
        "Nota3 = float(input(\"Insira a Nota\"))\n",
        "if (Nota3>=0 and Nota3 <= 10):\n",
        "  print(\"Nota 3 Válida\")\n",
        "else:\n",
        "  print(\"Nota 3 Invávlida, tente novamente\")\n",
        "\n",
        "#Processamento\n",
        "Media = (Nota1 + Nota2 + Nota3)/3\n",
        "print(Media)\n",
        "\n",
        "#Saída\n",
        "if (Media >= 7):\n",
        "  print(\"Você foi aprovado\")\n",
        "else:\n",
        "  print(\"Você foi reprovado\")"
      ],
      "metadata": {
        "colab": {
          "base_uri": "https://localhost:8080/"
        },
        "id": "1jhEZJZnDlqV",
        "outputId": "70a28d93-608e-40ad-8cc4-113f9812f117"
      },
      "execution_count": null,
      "outputs": [
        {
          "output_type": "stream",
          "name": "stdout",
          "text": [
            "Insira a Nota1\n",
            "Nota 1 Válida\n",
            "Insira a Nota1\n",
            "Nota 2 Válida\n",
            "Insira a Nota10\n",
            "Nota 3 Válida\n",
            "4.0\n",
            "Você foi reprovado\n"
          ]
        }
      ]
    },
    {
      "cell_type": "markdown",
      "source": [
        "##Condicional Composto: Possui mais de 2 possibilidades de decisão\n",
        "\n",
        "\n"
      ],
      "metadata": {
        "id": "3p_LGbG-MUgg"
      }
    },
    {
      "cell_type": "code",
      "source": [
        "\n",
        "#Entrada\n",
        "Nota1 = float(input(\"Insira a Nota\"))\n",
        "if (Nota1>=0 and Nota1 <= 10):\n",
        "  print(\"Nota 1 Válida\")\n",
        "else:\n",
        "  print(\"Nota 1 Invávlida, tente novamente\")\n",
        "\n",
        "Nota2 = float(input(\"Insira a Nota\"))\n",
        "if (Nota2>=0 and Nota2 <= 10):\n",
        "  print(\"Nota 2 Válida\")\n",
        "else:\n",
        "  print(\"Nota 2 Invávlida, tente novamente\")\n",
        "\n",
        "Nota3 = float(input(\"Insira a Nota\"))\n",
        "if (Nota3>=0 and Nota3 <= 10):\n",
        "  print(\"Nota 3 Válida\")\n",
        "else:\n",
        "  print(\"Nota 3 Invávlida, tente novamente\")\n",
        "\n",
        "#Processamento\n",
        "Media = (Nota1 + Nota2 + Nota3)/3\n",
        "print(Media)\n",
        "\n",
        "#Saída\n",
        "if (Media<5):\n",
        "  print(\"Sua menção final é I\")\n",
        "elif (Media>=5 and Media<6.5):\n",
        "  print(\"Sua menção final é R\")\n",
        "elif (Media >=6.5 and Media<8.5 ):\n",
        "  print(\"Sua menção final é B\")\n",
        "else:\n",
        "  print(\"Sua menção final é MB\")"
      ],
      "metadata": {
        "colab": {
          "base_uri": "https://localhost:8080/"
        },
        "id": "ezgBg13cMamT",
        "outputId": "c3153614-49d2-4934-e1fb-53dfbeac52bd"
      },
      "execution_count": null,
      "outputs": [
        {
          "output_type": "stream",
          "name": "stdout",
          "text": [
            "Insira a Nota10\n",
            "Nota 1 Válida\n",
            "Insira a Nota10\n",
            "Nota 2 Válida\n",
            "Insira a Nota9\n",
            "Nota 3 Válida\n",
            "9.666666666666666\n",
            "Sua menção final é MB\n"
          ]
        }
      ]
    },
    {
      "cell_type": "markdown",
      "source": [
        "# Condicionais Aninhadas: Usa if dentro de outro if para decisões mais complexas.\n",
        "\n",
        "\n",
        "\n"
      ],
      "metadata": {
        "id": "z_1OVxeDSVBs"
      }
    },
    {
      "cell_type": "code",
      "source": [
        "UsuarioCerto = \"The_Noobmaster201026\"\n",
        "SenhaCerta = 123456\n",
        "\n",
        "Usuario = input(\"Insira seu usuário?\")\n",
        "\n",
        "if (Usuario==UsuarioCerto):\n",
        "  Senha = int(input(\"Insira a Senha\"))\n",
        "  if (Senha==SenhaCerta):\n",
        "    print(\"Usuário Logado\")\n",
        "  else:\n",
        "      print(\"Senha Incorreta\")\n",
        "else:\n",
        "  print(\"Usuário Inválido\")"
      ],
      "metadata": {
        "colab": {
          "base_uri": "https://localhost:8080/"
        },
        "id": "TfUUgHarSgH0",
        "outputId": "bc3ee17f-27b2-44ac-ae3b-8756ef4f1282"
      },
      "execution_count": null,
      "outputs": [
        {
          "output_type": "stream",
          "name": "stdout",
          "text": [
            "Qual seu usuário?The_Noobmaster201026\n",
            "Insira a Senha123456\n",
            "Usuário Logado\n"
          ]
        }
      ]
    },
    {
      "cell_type": "markdown",
      "source": [
        "#Listas de exercícios\n",
        "\n",
        "##1 Faça um programa que solicite ao usuário três valores (lados de um triangulo), verifique se é um triangulo e informe se ele é isóceles, equilatero ou escaleno."
      ],
      "metadata": {
        "id": "FpOtA-riZ1SO"
      }
    },
    {
      "cell_type": "code",
      "source": [
        "# Entrada\n",
        "Lado1 = float(input(\"Tamanho do primeiro lado?\"))\n",
        "Lado2 = float(input(\"Tamanho do segundo lado?\"))\n",
        "Lado3 = float(input(\"Tamanho do terceiro lado?\"))\n",
        "\n",
        "# Processamento\n",
        "if (Lado1 + Lado2 >= Lado3 and Lado1 + Lado3 >= Lado2 and Lado2 + Lado3 >= Lado1):\n",
        "  if (Lado1 == Lado2 == Lado3):\n",
        "    print(f\"é um triângulo Equilátero?\")\n",
        "  elif (Lado1 != Lado2 and Lado1 != Lado3 and Lado2 != Lado3 and Triangulo):\n",
        "      print(f\"é um triângulo Escaleno?\")\n",
        "  else:\n",
        "      print(f\"é um triângulo Isósceles?\")\n"
      ],
      "metadata": {
        "colab": {
          "base_uri": "https://localhost:8080/"
        },
        "id": "bivo-3eoaDU3",
        "outputId": "d44ef449-6402-4e12-af12-289aa37d4d93"
      },
      "execution_count": null,
      "outputs": [
        {
          "output_type": "stream",
          "name": "stdout",
          "text": [
            "Tamanho do primeiro lado?10\n",
            "Tamanho do segundo lado?10\n",
            "Tamanho do terceiro lado?20\n",
            "é um triângulo Isósceles?\n"
          ]
        }
      ]
    },
    {
      "cell_type": "markdown",
      "source": [
        "# 2 Crie um programa que simule um caixa eletrônico. O programa deve:\n",
        "\n",
        "### Solicitar ao usuário nome de usuário e senha para acessar a conta bancária (use valores fictícios para usuário e senha, por exemplo, \"cliente\" e \"1234\").\n",
        "\n",
        "###Se o usuário ou a senha estiver incorreto, o programa deve bloquear o acesso e exibir a mensagem: \"Usuário ou senha incorretos. Tente novamente.\""
      ],
      "metadata": {
        "id": "mclqZ_-fNre9"
      }
    },
    {
      "cell_type": "code",
      "source": [
        "UsuarioCerto = \"Cliente\"\n",
        "SenhaCerta = 1234\n",
        "\n",
        "Usuario = input(\"Insira seu usuário?\")\n",
        "\n",
        "if (Usuario==UsuarioCerto):\n",
        "  Senha = int(input(\"Insira a Senha\"))\n",
        "  if (Senha==SenhaCerta):\n",
        "    print(\"Usuário Logado\")\n",
        "  else:\n",
        "      print(\"Senha Incorreta\")\n",
        "else:\n",
        "  print(\"Usuário Inválido\")"
      ],
      "metadata": {
        "colab": {
          "base_uri": "https://localhost:8080/"
        },
        "id": "3cM1tradN-rd",
        "outputId": "cc0d08eb-eaaf-4ad3-86af-ccf113a46d3e"
      },
      "execution_count": null,
      "outputs": [
        {
          "output_type": "stream",
          "name": "stdout",
          "text": [
            "Insira seu usuário?Cliena\n",
            "Usuário Inválido\n"
          ]
        }
      ]
    },
    {
      "cell_type": "markdown",
      "source": [
        "#3 Se o login for bem-sucedido, o programa deve exibir as opções de escolha para o usuário de saque, depósito ou ver saldo, e o usuário poderá escolher qual operação deseja realizar."
      ],
      "metadata": {
        "id": "-MGXu2wFOmbO"
      }
    },
    {
      "cell_type": "code",
      "source": [
        "Limite = 3000.00\n",
        "Saldo = 200.00\n",
        "\n",
        "Acao = int(input(\"Digite 1 para sacar, 2 pra depositar e 3 pra consultar seu saldo\"))\n",
        "\n",
        "if (Acao == 1):\n",
        "  Saque = float(input(\"Quanto gostaria de Sacar?\"))\n",
        "  Novo_Saldo = (Saldo - Saque)\n",
        "  print(f\"Seu saldo agora é: {Novo_Saldo}\")\n",
        "elif (Saque > Limite):\n",
        "    print(\"Você não pode sacar valores acima de 3000.00\")\n",
        "\n",
        "\n",
        "if (Acao == 2):\n",
        "    Deposito = float(input(\"Quanto quer depositar?\"))\n",
        "    Novo_Saldo = Deposito + Saldo\n",
        "    print(f\"Se saldo agora é {Novo_Saldo}\")\n",
        "\n",
        "\n",
        "if (Acao == 3):\n",
        "  print(Saldo)\n",
        "\n",
        "\n",
        "if (Acao > 3 or Acao < 1):\n",
        "  print(\"Você digitou um número inválido\")\n",
        "\n",
        "\n"
      ],
      "metadata": {
        "colab": {
          "base_uri": "https://localhost:8080/"
        },
        "id": "on92gcmDPCim",
        "outputId": "e37178e6-122d-4246-fa91-c421fd5a3764"
      },
      "execution_count": null,
      "outputs": [
        {
          "output_type": "stream",
          "name": "stdout",
          "text": [
            "Digite 1 para sacar, 2 pra depositar e 3 pra consultar seu saldo2\n",
            "Quanto quer depositar?5\n",
            "Se saldo agora é 205.0\n"
          ]
        }
      ]
    },
    {
      "cell_type": "markdown",
      "source": [
        "# 4. Faça um programa que solicite altura e idade do usuário, informe se ele pode ou nao competir."
      ],
      "metadata": {
        "id": "0fqnwyntWY8x"
      }
    },
    {
      "cell_type": "code",
      "source": [
        "Altura = float(input(\"Qual sua altura?\"))\n",
        "Idade = int(input(\"Qual sua idade?\"))\n",
        "\n",
        "if (Altura < 1.75):\n",
        "  print(\"Participação negada\")\n",
        "if (Idade < 18):\n",
        "  print(\"Participação negada\")\n",
        "if (Altura >= 1.75 and Idade >= 18):\n",
        "  print (\"Participação aprovada!\")"
      ],
      "metadata": {
        "colab": {
          "base_uri": "https://localhost:8080/"
        },
        "id": "s-wfKOJyWnn5",
        "outputId": "f818feb4-98ff-4b83-cc88-2d055d7c1a7b"
      },
      "execution_count": null,
      "outputs": [
        {
          "output_type": "stream",
          "name": "stdout",
          "text": [
            "Qual sua altura?1.75\n",
            "Qual sua idade?18\n",
            "Participação aprovada!\n"
          ]
        }
      ]
    },
    {
      "cell_type": "markdown",
      "source": [
        "# 5 Faça um programa que solicite o peso do lutador de Boxe. Informe em que categoria de boxe o usuário está"
      ],
      "metadata": {
        "id": "WG4s_jUY1tnh"
      }
    },
    {
      "cell_type": "code",
      "source": [
        "peso = float(input(\"Digite o peso do lutador em kg: \"))\n",
        "\n",
        "if peso >= 90.72:\n",
        "    categoria = \"Peso Pesado\"\n",
        "elif peso >= 83.91:\n",
        "    categoria = \"Meio Pesado\"\n",
        "elif peso >= 76.2:\n",
        "    categoria = \"Médio\"\n",
        "elif peso >= 69.85:\n",
        "    categoria = \"Meio-Médio\"\n",
        "elif peso >= 66.68:\n",
        "    categoria = \"Meio Médio-Leve\"\n",
        "elif peso >= 63.5:\n",
        "    categoria = \"Leve\"\n",
        "elif peso >= 61.23:\n",
        "    categoria = \"Super Pena\"\n",
        "elif peso >= 58.97:\n",
        "    categoria = \"Pena\"\n",
        "elif peso >= 57.15:\n",
        "    categoria = \"Super Galo\"\n",
        "elif peso >= 55.34:\n",
        "    categoria = \"Galo\"\n",
        "elif peso >= 53.52:\n",
        "    categoria = \"Super Mosca\"\n",
        "elif peso >= 51.71:\n",
        "    categoria = \"Mosca\"\n",
        "elif peso >= 49.89:\n",
        "    categoria = \"Super Mosca Leve\"\n",
        "elif peso >= 48.98:\n",
        "    categoria = \"Mosca Leve\"\n",
        "elif peso >= 47.63:\n",
        "    categoria = \"Palha\"\n",
        "elif peso >= 46.27:\n",
        "  categoria = \"Palha Leve\"\n",
        "elif peso < 46.27:\n",
        "  categoria = \"Você não tem peso o suficiente pra ser classificado em nenhuma das categorias\"\n",
        "\n",
        "print(f\"A categoria do lutador é: {categoria}\")"
      ],
      "metadata": {
        "colab": {
          "base_uri": "https://localhost:8080/"
        },
        "id": "jiGcmxX019Kw",
        "outputId": "6feeb7dd-77a8-4c8c-f57e-304a3a10a17d"
      },
      "execution_count": 12,
      "outputs": [
        {
          "output_type": "stream",
          "name": "stdout",
          "text": [
            "Digite o peso do lutador em kg: 90\n",
            "A categoria do lutador é: Meio Pesado\n"
          ]
        }
      ]
    },
    {
      "cell_type": "markdown",
      "source": [],
      "metadata": {
        "id": "gtck0z5X6cly"
      }
    },
    {
      "cell_type": "markdown",
      "source": [
        "# 6 Faça um programa que solicite o salário do usuário e informe quanto esse usuário irá pagar de imposto de renda seguindo a tabela"
      ],
      "metadata": {
        "id": "EimgCRMCtKBI"
      }
    },
    {
      "cell_type": "code",
      "source": [
        "Salario = float(input(\"Qual seu salário?\"))\n",
        "\n",
        "if (Salario <= 1903.98):\n",
        "  print(\"Você está isento\")\n",
        "elif (Salario >= 1903.99 and Salario < 2826.65):\n",
        "  print(\"Você vai pagar 7,5% de imposto de renda\")\n",
        "elif (Salario >= 2826.66 and Salario <= 3751.05):\n",
        "  print(\"Você vai pagar 15% de imposto de renda\")\n",
        "elif (Salario >= 3751.06 and Salario <= 466.68):\n",
        "  print(\"Você vai pagar 22,5% de imposto de renda\")\n",
        "else:\n",
        "  print(\"Você vai pagar 27.5% de imposto de renda\")"
      ],
      "metadata": {
        "colab": {
          "base_uri": "https://localhost:8080/"
        },
        "id": "LzJz5nTOtdjD",
        "outputId": "6c78918f-5e03-4e55-90dc-732b3191865c"
      },
      "execution_count": 6,
      "outputs": [
        {
          "output_type": "stream",
          "name": "stdout",
          "text": [
            "Qual seu salário?5000\n",
            "Você vai pagar 27.5% de imposto de renda\n"
          ]
        }
      ]
    },
    {
      "cell_type": "markdown",
      "source": [
        "# 7 Uma empresa dará aumento para seus funcionários, faça um programa que faça esses cálculos, solicite o salário do funcionário e informe o aumento que o mesmo terá, seguindo os seguintes critérios:"
      ],
      "metadata": {
        "id": "ZinMcmO-zJ9V"
      }
    },
    {
      "cell_type": "code",
      "source": [
        "Salario = float(input(\"Qual seu salário?\"))\n",
        "\n",
        "if (Salario <= 1500):\n",
        "  print(\"Você vai ganhar 20% de aumento\")\n",
        "elif (Salario > 1500 and Salario <= 3000):\n",
        "  print(\"Você vai ganhar 15% de aumento\")\n",
        "else:\n",
        "  print(\"Você vai ganhar 10% de aumento\")"
      ],
      "metadata": {
        "colab": {
          "base_uri": "https://localhost:8080/"
        },
        "id": "QVr58km-zPAV",
        "outputId": "d596a364-f13e-438d-8f15-a3ed876a3c5c"
      },
      "execution_count": 11,
      "outputs": [
        {
          "output_type": "stream",
          "name": "stdout",
          "text": [
            "Qual seu salário?-19\n",
            "Você vai ganhar 20% de aumento\n"
          ]
        }
      ]
    },
    {
      "cell_type": "markdown",
      "source": [
        "# 8 Peça o peso do pacote (em kg) e a distância (em km) de sua cidade até o local de entrega.Calcule o frete com base em regras:\n",
        "\n",
        "## Até 2kg → R$5 por 100km\n",
        "\n",
        "##De 2kg a 5kg → R$8 por 100km\n",
        "\n",
        "##Acima de 5kg → R$10 por 100km"
      ],
      "metadata": {
        "id": "ZEeweCrC0WXr"
      }
    },
    {
      "cell_type": "code",
      "source": [
        "Peso = float(input(\"Qual o peso do pacote?(em Kg)\" ))\n",
        "Distancia = int(input(\"Qual a distância da sua cidade até o ponto de entrega?(em KM)\" ))\n",
        "\n",
        "if (Peso <= 2):\n",
        "  Preço_100km = 5\n",
        "elif (Peso > 2 and Peso < 5):\n",
        "  Preço_100km = 8\n",
        "else:\n",
        "  Preço_100km = 10\n",
        "\n",
        "Frete = (Distancia/100)*Preço_100km\n",
        "\n",
        "print(f\"Valor do frete é {Frete}\")"
      ],
      "metadata": {
        "colab": {
          "base_uri": "https://localhost:8080/"
        },
        "id": "bJ-XeCsp3EV2",
        "outputId": "83d9254c-4c7d-46b2-de55-563d47ca435f"
      },
      "execution_count": 14,
      "outputs": [
        {
          "output_type": "stream",
          "name": "stdout",
          "text": [
            "Qual o peso do pacote?(em Kg)3\n",
            "Qual a distância da sua cidade até o ponto de entrega?(em KM)350\n",
            "Valor do frete é 28.0\n"
          ]
        }
      ]
    }
  ]
}