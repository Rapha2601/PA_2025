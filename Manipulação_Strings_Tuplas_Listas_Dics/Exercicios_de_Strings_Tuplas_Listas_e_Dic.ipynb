{
  "nbformat": 4,
  "nbformat_minor": 0,
  "metadata": {
    "colab": {
      "provenance": [],
      "authorship_tag": "ABX9TyPXMnsx7OCnjIsdZAI4IB78",
      "include_colab_link": true
    },
    "kernelspec": {
      "name": "python3",
      "display_name": "Python 3"
    },
    "language_info": {
      "name": "python"
    }
  },
  "cells": [
    {
      "cell_type": "markdown",
      "metadata": {
        "id": "view-in-github",
        "colab_type": "text"
      },
      "source": [
        "<a href=\"https://colab.research.google.com/github/Rapha2601/PA_2025/blob/main/Manipula%C3%A7%C3%A3o_Strings_Tuplas_Listas_Dics/Exercicios_de_Strings_Tuplas_Listas_e_Dic.ipynb\" target=\"_parent\"><img src=\"https://colab.research.google.com/assets/colab-badge.svg\" alt=\"Open In Colab\"/></a>"
      ]
    },
    {
      "cell_type": "markdown",
      "source": [
        "# Manipulação de Strings"
      ],
      "metadata": {
        "id": "hDukat-u1oDv"
      }
    },
    {
      "cell_type": "code",
      "source": [
        "# 1 - Use o método len para imprimir o comprimento da string.\n",
        "x = \"Hello World\"\n",
        "print(len(x))"
      ],
      "metadata": {
        "id": "Epj9M1YN13F-"
      },
      "execution_count": null,
      "outputs": []
    },
    {
      "cell_type": "code",
      "source": [
        "# 2 - Obtenha o primeiro caractere da string txt.\n",
        "txt = \"Hello World\"\n",
        "txt[0]"
      ],
      "metadata": {
        "id": "5mC39Oi_1-gn"
      },
      "execution_count": null,
      "outputs": []
    },
    {
      "cell_type": "code",
      "source": [
        "# 3 - Obtenha os caracteres do índice 2 ao índice 4 ( llo).\n",
        "txt = \"Hello World\"\n",
        "txt[2:5]"
      ],
      "metadata": {
        "id": "jOUgJOeq1-4M"
      },
      "execution_count": null,
      "outputs": []
    },
    {
      "cell_type": "code",
      "source": [
        "# 4 - Converta o valor de txt para maiúsculas.\n",
        "txt = \"Hello World\"\n",
        "txt.upper()"
      ],
      "metadata": {
        "id": "ymtpuohx1_D-"
      },
      "execution_count": null,
      "outputs": []
    },
    {
      "cell_type": "code",
      "source": [
        "# 5 - Conte quantas vezes aparece a palavra \"de\" na string abaixo\n",
        "txt = \"Eu gosto de vijar, tomar vinho, de estudar estudar programação, de estudar Pyhon\"\n",
        "str.count(txt, \"de\")"
      ],
      "metadata": {
        "id": "xSmYr8RH1_Tm"
      },
      "execution_count": null,
      "outputs": []
    },
    {
      "cell_type": "code",
      "source": [
        "# 6 - Separe a frase abaixo toda vez que encontrar um vírgula\n",
        "txt = \"Eu gosto de vijar, tomar vinho, de estudar estudar programação, de estudar Pyhon\"\n",
        "txt.split(\",\")"
      ],
      "metadata": {
        "id": "b2Ochzz52RKV"
      },
      "execution_count": null,
      "outputs": []
    },
    {
      "cell_type": "code",
      "source": [
        "#7 - Peça ao usuário uma frase e substitua todas as ocorrências de espaço por “#”.\n",
        "Frase = input(\"Frase aqui\")\n",
        "Frase.replace(\" \",\"#\")"
      ],
      "metadata": {
        "colab": {
          "base_uri": "https://localhost:8080/",
          "height": 53
        },
        "id": "J87AL5me2RYk",
        "outputId": "9fec9753-54ee-4b2f-be29-397c3db34c4d"
      },
      "execution_count": 1,
      "outputs": [
        {
          "name": "stdout",
          "output_type": "stream",
          "text": [
            "Frase aquieu gosto de bananas, maça, abacate e mamão\n"
          ]
        },
        {
          "output_type": "execute_result",
          "data": {
            "text/plain": [
              "'eu#gosto#de#bananas,#maça,#abacate#e#mamão'"
            ],
            "application/vnd.google.colaboratory.intrinsic+json": {
              "type": "string"
            }
          },
          "metadata": {},
          "execution_count": 1
        }
      ]
    },
    {
      "cell_type": "code",
      "source": [
        "# 8 - Faça um programa que retorne True se duas strings lidas do teclado são palíndromas mútuas, ou seja, se uma é igual à outra quando lida de traz para frente ou False, se não forem.\n",
        "# Por exemplo: amor e roma\n",
        "p = input(\"Sua palavra aqui!\")\n",
        "invertp = p[::-1]\n",
        "\n",
        "q = input(\"Sua palavra aqui!\")\n",
        "invertq = q[::-1]\n",
        "\n",
        "if(p == invertp and q != invertq):\n",
        "  print(f\"{p} é uma palavra políndroma dela mesma mas {q} não é políndroma\")\n",
        "\n",
        "elif (p != invertp and q == invertq):\n",
        "  print(f\"{p} não é uma palavra políndroma mas {q} é políndroma dela mesma\")\n",
        "\n",
        "elif (p == invertq):\n",
        "  print(f\"{p} é políndroma de {q}\")\n",
        "\n",
        "elif (q == invertp):\n",
        "  print(f\"{q} é políndroma de {p}\")\n",
        "\n",
        "elif (q == invertq and p == invertp):\n",
        "  print(f\"as duas são políndromas delas mesmas\")\n",
        "\n",
        "else:\n",
        "  print(\"nenhuma delas é políndromas\")\n",
        "\n"
      ],
      "metadata": {
        "id": "L31Bn_QR2R10"
      },
      "execution_count": null,
      "outputs": []
    },
    {
      "cell_type": "code",
      "source": [
        "# 9- Faça um programa que leia o nome do usuário e mostre o nome de traz para frente, utilizando somente letras maiúsculas.\n",
        "nome = input(\"Digite seu nome\")\n",
        "\n",
        "invertnome = nome[::-1]\n",
        "INVERTNOME = str.upper(invertnome)\n",
        "\n",
        "print(f\"{INVERTNOME}\")"
      ],
      "metadata": {
        "id": "yKSYjTlZ2qN1"
      },
      "execution_count": null,
      "outputs": []
    },
    {
      "cell_type": "markdown",
      "source": [
        "# Tuplas, Listas e Dicionários"
      ],
      "metadata": {
        "id": "vsQliX0P2tL2"
      }
    },
    {
      "cell_type": "markdown",
      "source": [
        "##Exercício 1: Manipulação de Listas\n",
        "Defina uma lista com 5 nomes de cidades.\n",
        "Adicione uma nova cidade ao final da lista.\n",
        "Remova a segunda cidade da lista.\n",
        "Imprima a lista resultante."
      ],
      "metadata": {
        "id": "MDDfP2x73Cq7"
      }
    },
    {
      "cell_type": "code",
      "source": [
        "lista = [\"Ribeirão Pires\", \"São Paulo\", \"Santo andré\", \"Pará\", \"mauá\"]\n",
        "lista.append(\"Pindamonhangaba\")\n",
        "lista.pop(1)\n",
        "print(lista)"
      ],
      "metadata": {
        "colab": {
          "base_uri": "https://localhost:8080/"
        },
        "id": "4pDJIZFC3E_m",
        "outputId": "4a7e4683-83d7-40f5-c4e8-2d1ff4ecf1c1"
      },
      "execution_count": 5,
      "outputs": [
        {
          "output_type": "stream",
          "name": "stdout",
          "text": [
            "['Ribeirão Pires', 'Santo andré', 'Pará', 'mauá', 'Pindamonhangaba']\n"
          ]
        }
      ]
    },
    {
      "cell_type": "markdown",
      "source": [
        "##Exercício 2: Operações com Tuplas\n",
        "Defina uma tupla com 4 cores.\n",
        "Crie uma nova tupla que seja a concatenação da tupla original com outra contendo mais 2 cores.\n",
        "Imprima a nova tupla."
      ],
      "metadata": {
        "id": "imv2E1-H3Hd3"
      }
    },
    {
      "cell_type": "code",
      "source": [
        "Cores = (\"Azul\",\"Rosa\",\"Roxo\",\"Preto\")\n",
        "Cores2 = Cores + (\"Laranja\", \"Verde\")\n",
        "print(Cores2)"
      ],
      "metadata": {
        "colab": {
          "base_uri": "https://localhost:8080/"
        },
        "id": "kupGcm-L3Kc0",
        "outputId": "6040b26a-fc31-4dcd-8825-66692dec128b"
      },
      "execution_count": 4,
      "outputs": [
        {
          "output_type": "stream",
          "name": "stdout",
          "text": [
            "('Azul', 'Rosa', 'Roxo', 'Preto', 'Laranja', 'Verde')\n"
          ]
        }
      ]
    },
    {
      "cell_type": "markdown",
      "source": [
        "##Exercício 3: Dicionários Simples\n",
        "Crie um dicionário para representar um aluno, contendo \"nome\", \"idade\" e \"curso\".\n",
        "\n",
        "Atualize a idade do aluno.\n",
        "Adicione uma nova chave \"nota\" com um valor.\n",
        "Imprima o dicionário atualizado"
      ],
      "metadata": {
        "id": "jeRhkCGv3Nrt"
      }
    },
    {
      "cell_type": "code",
      "source": [
        "aluno = {\n",
        "    \"nome\":\"otavio\",\n",
        "    \"idade\": 99,\n",
        "    \"curso\": \"medicina\"\n",
        "}\n",
        "\n",
        "aluno[\"idade\"]=123\n",
        "aluno[\"nota\"]= 10\n",
        "print(aluno)"
      ],
      "metadata": {
        "colab": {
          "base_uri": "https://localhost:8080/"
        },
        "id": "xdR9SkxZ3RQM",
        "outputId": "5c8e6be2-da43-4354-d0bd-abfc6d818add"
      },
      "execution_count": 2,
      "outputs": [
        {
          "output_type": "stream",
          "name": "stdout",
          "text": [
            "{'nome': 'otavio', 'idade': 123, 'curso': 'medicina', 'nota': 10}\n"
          ]
        }
      ]
    },
    {
      "cell_type": "markdown",
      "source": [
        "##Exercício 4: Listas e Dicionários\n",
        "Crie uma lista de dicionários, onde cada dicionário representa um produto com as chaves \"nome\" e \"preço\".\n",
        "Adicione um novo produto à lista.\n",
        "Atualize o preço do primeiro produto na lista.\n",
        "Imprima a lista resultante."
      ],
      "metadata": {
        "id": "cP3LfNZ03Rry"
      }
    },
    {
      "cell_type": "code",
      "source": [
        "produto1 = {\n",
        "    \"nome\":\"Lápis\",\n",
        "    \"preço\": 1\n",
        "\n",
        "}\n",
        "produto2 = {\n",
        "    \"nome\":\"Borracha\",\n",
        "    \"preço\": 1.50\n",
        "\n",
        "}\n",
        "produto3 = {\n",
        "    \"nome\":\"caneta\",\n",
        "    \"preço\": 1.90\n",
        "\n",
        "}\n",
        "\n",
        "produtos = [produto1, produto2]\n",
        "produtos.append(produto3)\n",
        "produto1[\"preço\"] = 1.20\n",
        "print(produtos)"
      ],
      "metadata": {
        "colab": {
          "base_uri": "https://localhost:8080/"
        },
        "id": "1F10wuSy3R9c",
        "outputId": "1619eb45-d806-45e5-b391-1cd7c7d2f634"
      },
      "execution_count": 3,
      "outputs": [
        {
          "output_type": "stream",
          "name": "stdout",
          "text": [
            "[{'nome': 'Lápis', 'preço': 1.2}, {'nome': 'Borracha', 'preço': 1.5}, {'nome': 'caneta', 'preço': 1.9}]\n"
          ]
        }
      ]
    },
    {
      "cell_type": "markdown",
      "source": [
        "##Exercício 5: Analisando uma Lista de Tuplas\n",
        "Crie uma lista de tuplas, onde cada tupla contém um par (nome, idade).\n",
        "Encontre e imprima o nome da pessoa mais velha.\n",
        "Encontre e imprima a idade média das pessoas."
      ],
      "metadata": {
        "id": "WG_roTEZ3SKM"
      }
    },
    {
      "cell_type": "code",
      "source": [
        "nomes = [\n",
        "    (\"Maria\", 25),\n",
        "    (\"Raphael\", 18),\n",
        "    (\"Lucas\", 70),\n",
        "    (\"Pedro\", 56),\n",
        "    (\"Kaue\", 6),\n",
        "]"
      ],
      "metadata": {
        "id": "X0q49FqV3eLY"
      },
      "execution_count": null,
      "outputs": []
    },
    {
      "cell_type": "code",
      "source": [
        "Maisvelho = 0\n",
        "Nomemaisvelho = \"\"\n",
        "\n",
        "if nomes[0][1] > Maisvelho:\n",
        "  Maisvelho = nomes[0][1]\n",
        "  Nomemaisvelho = nomes[0][0]\n",
        "\n",
        "if nomes[1][1] > Maisvelho:\n",
        "  Maisvelho = nomes[1][1]\n",
        "  Nomemaisvelho = nomes[1][0]\n",
        "\n",
        "if nomes[2][1] > Maisvelho:\n",
        "  Maisvelho = nomes[2][1]\n",
        "  Nomemaisvelho = nomes[2][0]\n",
        "\n",
        "if nomes[3][1] > Maisvelho:\n",
        "  Maisvelho = nomes[3][1]\n",
        "  Nomemaisvelho = nomes[3][0]\n",
        "\n",
        "if nomes[4][1] > Maisvelho:\n",
        "  Maisvelho = nomes[4][1]\n",
        "  Nomemaisvelho = nomes[4][0]\n",
        "\n",
        "Media = (nomes[0][1] + nomes[1][1] + nomes[2][1] + nomes[3][1] + nomes[4][1]) / 5\n",
        "\n",
        "print(f\"O mais velho é o {Nomemaisvelho}, com {Maisvelho} anos e a média das idades é: {Media}\")\n"
      ],
      "metadata": {
        "id": "5So0GrWD3f9_"
      },
      "execution_count": null,
      "outputs": []
    }
  ]
}