{
  "nbformat": 4,
  "nbformat_minor": 0,
  "metadata": {
    "colab": {
      "provenance": [],
      "authorship_tag": "ABX9TyMxiSTrNwFEfND+j/E88G4H",
      "include_colab_link": true
    },
    "kernelspec": {
      "name": "python3",
      "display_name": "Python 3"
    },
    "language_info": {
      "name": "python"
    }
  },
  "cells": [
    {
      "cell_type": "markdown",
      "metadata": {
        "id": "view-in-github",
        "colab_type": "text"
      },
      "source": [
        "<a href=\"https://colab.research.google.com/github/Rapha2601/PA_2025/blob/main/variaveis_e_operadores_aritimeticos/Exerc%C3%ADcios_Fluxogramas.ipynb\" target=\"_parent\"><img src=\"https://colab.research.google.com/assets/colab-badge.svg\" alt=\"Open In Colab\"/></a>"
      ]
    },
    {
      "cell_type": "markdown",
      "source": [
        "#Cálculo de média"
      ],
      "metadata": {
        "id": "TmK2JLXX0SmC"
      }
    },
    {
      "cell_type": "code",
      "source": [
        "#Entrada\n",
        "nota1 = float(input(\"Digite a nota da P1: \"))\n",
        "nota2 = float(input(\"Digite a nota da P2: \"))\n"
      ],
      "metadata": {
        "colab": {
          "base_uri": "https://localhost:8080/"
        },
        "id": "yrJIFMbQ0TeR",
        "outputId": "e801ed90-3887-404d-8ff8-6cfdaa0d87d2"
      },
      "execution_count": null,
      "outputs": [
        {
          "name": "stdout",
          "output_type": "stream",
          "text": [
            "Digite a nota da P1: 12\n",
            "Digite a nota da P2: 13\n"
          ]
        }
      ]
    },
    {
      "cell_type": "code",
      "source": [
        "#Processamento\n",
        "media = (nota1 + nota2)/2"
      ],
      "metadata": {
        "id": "6Ex4pHYV0fnu"
      },
      "execution_count": null,
      "outputs": []
    },
    {
      "cell_type": "code",
      "source": [
        "#Saída\n",
        "print(f\"A média é: {media}\")\n"
      ],
      "metadata": {
        "colab": {
          "base_uri": "https://localhost:8080/"
        },
        "id": "j6EJX_Oy0jeZ",
        "outputId": "eb0e8d76-ef3c-491c-b2fd-61120f2722dc"
      },
      "execution_count": null,
      "outputs": [
        {
          "output_type": "stream",
          "name": "stdout",
          "text": [
            "A média é: 12.5\n"
          ]
        }
      ]
    },
    {
      "cell_type": "markdown",
      "source": [
        "#Conversão de Moeda"
      ],
      "metadata": {
        "id": "6SMZ4o8p0teR"
      }
    },
    {
      "cell_type": "code",
      "source": [
        "# Entrada\n",
        "cotacao_em_dolar = float(input(\"Digite a cotação do dólar: \"))\n",
        "valor_em_reais = float(input(\"Digite o valor em reais: \"))\n"
      ],
      "metadata": {
        "colab": {
          "base_uri": "https://localhost:8080/"
        },
        "id": "bRCy9Dki0yNO",
        "outputId": "8bf6b61d-36e6-40b7-e460-f7a19034893f"
      },
      "execution_count": null,
      "outputs": [
        {
          "name": "stdout",
          "output_type": "stream",
          "text": [
            "Digite a cotação do dólar: 5.73\n",
            "Digite o valor em reais: 1000\n"
          ]
        }
      ]
    },
    {
      "cell_type": "code",
      "source": [
        "#Pocessamento\n",
        "valor_em_dolar = valor_em_reais / cotacao_em_dolar"
      ],
      "metadata": {
        "id": "THY3q-kC0-xR"
      },
      "execution_count": null,
      "outputs": []
    },
    {
      "cell_type": "code",
      "source": [
        "#Saída\n",
        "print(f\"O valor em dólares é: ${valor_em_dolar:.2f}\")"
      ],
      "metadata": {
        "colab": {
          "base_uri": "https://localhost:8080/"
        },
        "id": "ejNmFiqg1W4s",
        "outputId": "605af965-1167-44c6-951e-ca0d25e41524"
      },
      "execution_count": null,
      "outputs": [
        {
          "output_type": "stream",
          "name": "stdout",
          "text": [
            "O valor em dólares é: $174.52\n"
          ]
        }
      ]
    },
    {
      "cell_type": "markdown",
      "source": [
        "#Cálculo de Comissão"
      ],
      "metadata": {
        "id": "UBlnWTNV1o4X"
      }
    },
    {
      "cell_type": "code",
      "source": [
        "#Entrada\n",
        "preco_unitario = float(input(\"Digite o preço unitário da peça: \"))\n",
        "quantidade_vendida = int(input(\"Digite a quantidade vendida: \"))\n"
      ],
      "metadata": {
        "id": "Iww1uVZf1sH5"
      },
      "execution_count": null,
      "outputs": []
    },
    {
      "cell_type": "code",
      "source": [
        "#Processamento\n",
        "valor_total_venda = preco_unitario * quantidade_vendida\n",
        "comissao = valor_total_venda * 0.05"
      ],
      "metadata": {
        "id": "5iSmLRgE17bY"
      },
      "execution_count": null,
      "outputs": []
    },
    {
      "cell_type": "code",
      "source": [
        "#Saída\n",
        "print(f\"Valor total da venda: R${valor_total_venda:.2f}\")\n",
        "print(f\"Comissão do vendedor: R${comissao:.2f}\")\n"
      ],
      "metadata": {
        "id": "664VGsqI2D3F"
      },
      "execution_count": null,
      "outputs": []
    },
    {
      "cell_type": "markdown",
      "source": [
        "#Carro de Fábrica"
      ],
      "metadata": {
        "id": "y3XnWCWG7TSG"
      }
    },
    {
      "cell_type": "code",
      "source": [
        "Custo_carro = float(input(\"O valor do carro é: \"))"
      ],
      "metadata": {
        "colab": {
          "base_uri": "https://localhost:8080/"
        },
        "id": "oZk-RLRT7W4_",
        "outputId": "56c6fd26-fbd6-4583-bfc2-d736037246ff"
      },
      "execution_count": null,
      "outputs": [
        {
          "name": "stdout",
          "output_type": "stream",
          "text": [
            "O valor do carro é: 25000\n"
          ]
        }
      ]
    },
    {
      "cell_type": "code",
      "source": [
        "Impostotrib = (Custo_carro * 45/100) + Custo_carro\n"
      ],
      "metadata": {
        "id": "zJaLV8J17mVd"
      },
      "execution_count": null,
      "outputs": []
    },
    {
      "cell_type": "code",
      "source": [
        "valor_final = (Impostotrib * 28/100) + Impostotrib\n",
        "print(f\"O valor do carro é: {valor_final}\")"
      ],
      "metadata": {
        "colab": {
          "base_uri": "https://localhost:8080/"
        },
        "id": "ZYxiA-Ic8zTB",
        "outputId": "845f60c5-b9e5-4f2c-fba4-d3e3ba0be45d"
      },
      "execution_count": null,
      "outputs": [
        {
          "output_type": "stream",
          "name": "stdout",
          "text": [
            "O valor do carro é: 46400.0\n"
          ]
        }
      ]
    },
    {
      "cell_type": "markdown",
      "source": [
        "#Conversão de horas e minutos para segundos"
      ],
      "metadata": {
        "id": "TM0PsbVn-O3k"
      }
    },
    {
      "cell_type": "code",
      "source": [
        "horas = float(input('Quantas horas? '))\n",
        "minutos = float(input(\"Quantos minutos? \"))"
      ],
      "metadata": {
        "colab": {
          "base_uri": "https://localhost:8080/"
        },
        "id": "OH56s61w-YOF",
        "outputId": "f017af1f-eacd-497b-9578-33086cfcb726"
      },
      "execution_count": null,
      "outputs": [
        {
          "name": "stdout",
          "output_type": "stream",
          "text": [
            "Quantas horas? 1\n",
            "Quantos minutos? 1\n"
          ]
        }
      ]
    },
    {
      "cell_type": "code",
      "source": [
        "horas_em_segundos = horas * 3600\n",
        "minutos_em_segundos = minutos * 60"
      ],
      "metadata": {
        "id": "naytWnSwAaXH"
      },
      "execution_count": null,
      "outputs": []
    },
    {
      "cell_type": "code",
      "source": [
        "Segundos = horas_em_segundos + minutos_em_segundos\n",
        "\n",
        "print(f\"O total de segundos é: {Segundos}\")\n"
      ],
      "metadata": {
        "colab": {
          "base_uri": "https://localhost:8080/"
        },
        "id": "V-76S8aRBHDN",
        "outputId": "b6d92c1a-a1b9-4283-f52c-21dd3d24554a"
      },
      "execution_count": null,
      "outputs": [
        {
          "output_type": "stream",
          "name": "stdout",
          "text": [
            "O total de segundos é: 3660.0\n"
          ]
        }
      ]
    },
    {
      "cell_type": "markdown",
      "source": [
        "#Hora Extra\n",
        "\n",
        "> Adicionar aspas\n",
        "\n"
      ],
      "metadata": {
        "id": "8Mtm7fD3B2sJ"
      }
    },
    {
      "cell_type": "code",
      "source": [
        "horas_Trabalhadas = float(input(\"quantas horas de trabalho? \"))\n",
        "minutos_Trabalhados = float(input(\"qantos minutos de trabalho? \"))\n",
        "Ganho_p_hora = float(input(\"Quanto você ganha por hora? \"))"
      ],
      "metadata": {
        "colab": {
          "base_uri": "https://localhost:8080/"
        },
        "id": "6ZO_gCEND_ix",
        "outputId": "6bd2f19e-92fd-49c0-d812-3ae370c3b8cb"
      },
      "execution_count": 77,
      "outputs": [
        {
          "name": "stdout",
          "output_type": "stream",
          "text": [
            "quantas horas de trabalho? 12\n",
            "qantos minutos de trabalho? 30\n",
            "Quanto você ganha por hora? 100\n"
          ]
        }
      ]
    },
    {
      "cell_type": "code",
      "source": [
        "total_horas = horas_Trabalhadas + (minutos_Trabalhados/60)"
      ],
      "metadata": {
        "id": "aVbGOfCuFi8i"
      },
      "execution_count": 78,
      "outputs": []
    },
    {
      "cell_type": "code",
      "source": [
        "salario_bruto = total_horas * Ganho_p_hora\n"
      ],
      "metadata": {
        "id": "5qX_V8F4Gvjj"
      },
      "execution_count": 79,
      "outputs": []
    },
    {
      "cell_type": "code",
      "source": [
        "Salario_Final = salario_bruto * 1.7\n",
        "print(f\"Você vai ganhar {Salario_Final}\")"
      ],
      "metadata": {
        "colab": {
          "base_uri": "https://localhost:8080/"
        },
        "id": "3hUryEFhKWl0",
        "outputId": "6523666e-ee2e-4851-91a6-110252619e4b"
      },
      "execution_count": 83,
      "outputs": [
        {
          "output_type": "stream",
          "name": "stdout",
          "text": [
            "Você vai ganhar 2125.0\n"
          ]
        }
      ]
    }
  ]
}