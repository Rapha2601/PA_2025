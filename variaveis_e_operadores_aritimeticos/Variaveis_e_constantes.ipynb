{
  "nbformat": 4,
  "nbformat_minor": 0,
  "metadata": {
    "colab": {
      "provenance": [],
      "authorship_tag": "ABX9TyPzEjHFzMuBt8Nba9o2iITB",
      "include_colab_link": true
    },
    "kernelspec": {
      "name": "python3",
      "display_name": "Python 3"
    },
    "language_info": {
      "name": "python"
    }
  },
  "cells": [
    {
      "cell_type": "markdown",
      "metadata": {
        "id": "view-in-github",
        "colab_type": "text"
      },
      "source": [
        "<a href=\"https://colab.research.google.com/github/Rapha2601/PA_2025/blob/main/variaveis_e_operadores_aritimeticos/Variaveis_e_constantes.ipynb\" target=\"_parent\"><img src=\"https://colab.research.google.com/assets/colab-badge.svg\" alt=\"Open In Colab\"/></a>"
      ]
    },
    {
      "cell_type": "markdown",
      "source": [
        "#Variáveis e Constantes\n"
      ],
      "metadata": {
        "id": "97u0FgVigRV7"
      }
    },
    {
      "cell_type": "code",
      "source": [
        "idade = 15\n",
        "altura = 1.76\n",
        "nome = \"Raphael\"\n",
        "vai = True"
      ],
      "metadata": {
        "id": "xYQ3uXI3giYa"
      },
      "execution_count": null,
      "outputs": []
    },
    {
      "cell_type": "code",
      "source": [
        "nomes = [\"Cintia\",\"alberto\",\"Raphael\",\"Pedro\"]\n",
        "nomes2 = (\"Cintia\",\"alberto\",\"Raphael\",\"Pedro\")\n",
        "tudo = {nome:\"Raphael\", idade: 15, altura: 1.76,}"
      ],
      "metadata": {
        "id": "PqSz7_rWiZUd"
      },
      "execution_count": null,
      "outputs": []
    },
    {
      "cell_type": "code",
      "source": [
        "print(type(idade))\n",
        "print(type(altura))\n",
        "print(type(vai))\n",
        "print(type(nome))\n",
        "print(type(nomes))\n",
        "print(type(nomes2))\n",
        "print(type(tudo))"
      ],
      "metadata": {
        "id": "330nzR6tkGlv"
      },
      "execution_count": null,
      "outputs": []
    },
    {
      "cell_type": "code",
      "source": [
        "print(\"seu nome é:\", nome, \"sua idade é:\", idade, \"Anos e tem\", altura, \"metros de altura\")"
      ],
      "metadata": {
        "colab": {
          "base_uri": "https://localhost:8080/"
        },
        "id": "FpgBier3rEnH",
        "outputId": "bc566127-4854-4641-8021-ee4bec7492ee"
      },
      "execution_count": null,
      "outputs": [
        {
          "output_type": "stream",
          "name": "stdout",
          "text": [
            "seu nome é: Raphael sua idade é: 15 Anos e tem 1.76 metros de altura\n"
          ]
        }
      ]
    },
    {
      "cell_type": "code",
      "source": [
        "print(f\"meu nome é {nome}\")"
      ],
      "metadata": {
        "id": "4zh_NfB4sXum"
      },
      "execution_count": null,
      "outputs": []
    },
    {
      "cell_type": "markdown",
      "source": [
        "# Área do círculo\n"
      ],
      "metadata": {
        "id": "cCNKUQmEvb_f"
      }
    },
    {
      "cell_type": "code",
      "source": [
        "PI = 3.14159\n",
        "raio = float(input(\"Digite o valor do raio aqui: \"))"
      ],
      "metadata": {
        "id": "IYqObM4-xNvY"
      },
      "execution_count": null,
      "outputs": []
    },
    {
      "cell_type": "code",
      "source": [
        "areacir = PI * (raio**2)"
      ],
      "metadata": {
        "id": "HwW7QE0Zwb75"
      },
      "execution_count": null,
      "outputs": []
    },
    {
      "cell_type": "code",
      "source": [
        "print(f\"A área do circulo é: {areacir}\")"
      ],
      "metadata": {
        "id": "YwOdt6sbxPux"
      },
      "execution_count": null,
      "outputs": []
    },
    {
      "cell_type": "markdown",
      "source": [
        "#Área do quadrado"
      ],
      "metadata": {
        "id": "mGdOdWlUzqrY"
      }
    },
    {
      "cell_type": "markdown",
      "source": [],
      "metadata": {
        "id": "MpJzS5DW0R_6"
      }
    },
    {
      "cell_type": "code",
      "source": [
        "lado = float(input(\"Digite o valor aqui: \"))\n",
        "area = lado**2\n",
        "\n"
      ],
      "metadata": {
        "id": "nRaiuoKLzvO3",
        "colab": {
          "base_uri": "https://localhost:8080/"
        },
        "outputId": "d6f9e593-caa1-4718-f018-68e66aee6e60"
      },
      "execution_count": null,
      "outputs": [
        {
          "name": "stdout",
          "output_type": "stream",
          "text": [
            "Digite o valor aqui: 5\n"
          ]
        }
      ]
    },
    {
      "cell_type": "code",
      "source": [
        "print(f\"A Área do quadrado é igual a: {area}\")"
      ],
      "metadata": {
        "id": "IYYFOGqA1TUJ",
        "outputId": "ee498e38-b0bc-4cb3-a3d1-a93576030bbf",
        "colab": {
          "base_uri": "https://localhost:8080/"
        }
      },
      "execution_count": null,
      "outputs": [
        {
          "output_type": "stream",
          "name": "stdout",
          "text": [
            "A Área do quadrado é igual a: 25.0\n"
          ]
        }
      ]
    },
    {
      "cell_type": "markdown",
      "source": [
        "#Exercícios"
      ],
      "metadata": {
        "id": "QcQYxdoNpK3w"
      }
    },
    {
      "cell_type": "markdown",
      "source": [
        "##Exercício 1 - Área do Retângulo\n",
        "\n",
        "Crie um programa que calcule a área de um retângulo usando uma constante para representar a base."
      ],
      "metadata": {
        "id": "DCSTdrP9py7t"
      }
    },
    {
      "cell_type": "code",
      "source": [
        "Base = float(input(\"insira a a base do retânfgulo aqui: \"))\n",
        "Altura = float(input(\"insira a altura do retângulo aqui: \"))"
      ],
      "metadata": {
        "colab": {
          "base_uri": "https://localhost:8080/"
        },
        "id": "-6YX0Vyrp4bb",
        "outputId": "0d18e535-2ac4-4d05-aeb9-466a2963efdb"
      },
      "execution_count": 17,
      "outputs": [
        {
          "name": "stdout",
          "output_type": "stream",
          "text": [
            "insira a a base do retânfgulo aqui: 15\n",
            "insira a altura do retângulo aqui: 4\n"
          ]
        }
      ]
    },
    {
      "cell_type": "code",
      "source": [
        "Area_Retangulo = Base * Altura\n",
        "print(f\"a área do retângulo é: {Area_Retangulo}\")"
      ],
      "metadata": {
        "colab": {
          "base_uri": "https://localhost:8080/"
        },
        "id": "SE2aEpL6qYd4",
        "outputId": "80018967-fb4d-40e1-93f2-1ea5e935a70c"
      },
      "execution_count": 35,
      "outputs": [
        {
          "output_type": "stream",
          "name": "stdout",
          "text": [
            "a área do retângulo é: 60.0\n"
          ]
        }
      ]
    },
    {
      "cell_type": "markdown",
      "source": [
        "##Exercício 2 – Perímetro do Círculo\n",
        "\n",
        "Crie um programa que calcule o perímetro de um círculo usando a constante π."
      ],
      "metadata": {
        "id": "PNxPcHE5q9b8"
      }
    },
    {
      "cell_type": "code",
      "source": [
        "Raio = float(input(\"insira o raio: \"))"
      ],
      "metadata": {
        "colab": {
          "base_uri": "https://localhost:8080/"
        },
        "id": "nR7stEgYrCST",
        "outputId": "41aa2907-2465-4432-d0e0-709ab9e98f71"
      },
      "execution_count": 20,
      "outputs": [
        {
          "name": "stdout",
          "output_type": "stream",
          "text": [
            "insira o raio6\n"
          ]
        }
      ]
    },
    {
      "cell_type": "code",
      "source": [
        "Perimetro =   2 * 3.1416 * Raio\n",
        "print(f\"O perímetro é: {Perimetro:.2f}\")"
      ],
      "metadata": {
        "colab": {
          "base_uri": "https://localhost:8080/"
        },
        "id": "6tawxSUErcAU",
        "outputId": "da13e0b5-dfb6-42f2-b56e-133d0b6dd426"
      },
      "execution_count": 36,
      "outputs": [
        {
          "output_type": "stream",
          "name": "stdout",
          "text": [
            "O perímetro é: 37.70\n"
          ]
        }
      ]
    },
    {
      "cell_type": "markdown",
      "source": [
        "##Exercício 3 – Conversão de Temperatura\n",
        "\n",
        "Crie um programa que converta uma temperatura de Fahrenheit para Celsius.\n"
      ],
      "metadata": {
        "id": "oiX-P5rLsBbc"
      }
    },
    {
      "cell_type": "code",
      "source": [
        "Temp_em_F = float(input(\"Digite a temperatura aqui: \"))"
      ],
      "metadata": {
        "colab": {
          "base_uri": "https://localhost:8080/"
        },
        "id": "BP-hS6fnsJHe",
        "outputId": "55127b41-55f9-4ac3-cec0-9ab987a07208"
      },
      "execution_count": 52,
      "outputs": [
        {
          "name": "stdout",
          "output_type": "stream",
          "text": [
            "Digite a temperatura aqui: 98\n"
          ]
        }
      ]
    },
    {
      "cell_type": "code",
      "source": [
        "C = (Temp_em_F - 32) * 5/9\n",
        "print(f\"A temperatura em Celcius é: {C} \")"
      ],
      "metadata": {
        "colab": {
          "base_uri": "https://localhost:8080/"
        },
        "id": "0KEoZNwlsZcU",
        "outputId": "63113245-395c-4cc7-fbae-cca5357ded16"
      },
      "execution_count": 53,
      "outputs": [
        {
          "output_type": "stream",
          "name": "stdout",
          "text": [
            "A temperatura em Celcius é: 36.666666666666664 \n"
          ]
        }
      ]
    },
    {
      "cell_type": "markdown",
      "source": [
        "##Exercício 4 – Cálculo do IMC\n",
        "\n",
        "Crie um programa que calcule o Índice de Massa Corporal (IMC) de uma pessoa."
      ],
      "metadata": {
        "id": "GZRoXH0etV4X"
      }
    },
    {
      "cell_type": "code",
      "source": [
        "Peso = float(input(\"Digite seu peso aqui: \"))\n",
        "Altura = float(input(\"Digite sua altura aqui: \"))"
      ],
      "metadata": {
        "colab": {
          "base_uri": "https://localhost:8080/"
        },
        "id": "MX5vwwMHtZRn",
        "outputId": "e7c14af9-b78c-46e0-f084-8bd9ab8e7d32"
      },
      "execution_count": 54,
      "outputs": [
        {
          "name": "stdout",
          "output_type": "stream",
          "text": [
            "Digite seu peso aqui: 105\n",
            "Digite sua altura aqui: 2.34\n"
          ]
        }
      ]
    },
    {
      "cell_type": "code",
      "source": [
        "IMC = Peso / Altura**2\n",
        "print(f\"O seu IMC é: {IMC}\")"
      ],
      "metadata": {
        "colab": {
          "base_uri": "https://localhost:8080/"
        },
        "id": "Hl6myGBjtsrs",
        "outputId": "8f96844c-42c2-4fde-8d3c-fcfcf0365fdf"
      },
      "execution_count": 56,
      "outputs": [
        {
          "output_type": "stream",
          "name": "stdout",
          "text": [
            "O seu IMC é: 19.175980714442257\n"
          ]
        }
      ]
    }
  ]
}