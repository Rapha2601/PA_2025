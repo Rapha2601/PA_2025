{
  "nbformat": 4,
  "nbformat_minor": 0,
  "metadata": {
    "colab": {
      "provenance": [],
      "authorship_tag": "ABX9TyMnXmzQ+5x8FMZZCNOlgzvS",
      "include_colab_link": true
    },
    "kernelspec": {
      "name": "python3",
      "display_name": "Python 3"
    },
    "language_info": {
      "name": "python"
    }
  },
  "cells": [
    {
      "cell_type": "markdown",
      "metadata": {
        "id": "view-in-github",
        "colab_type": "text"
      },
      "source": [
        "<a href=\"https://colab.research.google.com/github/Rapha2601/PA_2025/blob/main/variaveis_e_operadores_aritimeticos/Variaveis_e_constantes.ipynb\" target=\"_parent\"><img src=\"https://colab.research.google.com/assets/colab-badge.svg\" alt=\"Open In Colab\"/></a>"
      ]
    },
    {
      "cell_type": "markdown",
      "source": [
        "#Variaveis e Constantes\n"
      ],
      "metadata": {
        "id": "97u0FgVigRV7"
      }
    },
    {
      "cell_type": "code",
      "source": [
        "idade = 15\n",
        "altura = 1.76\n",
        "nome = \"Raphael\"\n",
        "vai = True"
      ],
      "metadata": {
        "id": "xYQ3uXI3giYa"
      },
      "execution_count": null,
      "outputs": []
    },
    {
      "cell_type": "code",
      "source": [
        "nomes = [\"Cintia\",\"alberto\",\"Raphael\",\"Pedro\"]\n",
        "nomes2 = (\"Cintia\",\"alberto\",\"Raphael\",\"Pedro\")\n",
        "tudo = {nome:\"Raphael\", idade: 15, altura: 1.76,}"
      ],
      "metadata": {
        "id": "PqSz7_rWiZUd"
      },
      "execution_count": null,
      "outputs": []
    },
    {
      "cell_type": "code",
      "source": [
        "print(type(idade))\n",
        "print(type(altura))\n",
        "print(type(vai))\n",
        "print(type(nome))\n",
        "print(type(nomes))\n",
        "print(type(nomes2))\n",
        "print(type(tudo))"
      ],
      "metadata": {
        "id": "330nzR6tkGlv"
      },
      "execution_count": null,
      "outputs": []
    },
    {
      "cell_type": "code",
      "source": [
        "print(\"seu nome é:\", nome, \"sua idade é:\", idade, \"Anos e tem\", altura, \"metros de altura\")"
      ],
      "metadata": {
        "colab": {
          "base_uri": "https://localhost:8080/"
        },
        "id": "FpgBier3rEnH",
        "outputId": "bc566127-4854-4641-8021-ee4bec7492ee"
      },
      "execution_count": null,
      "outputs": [
        {
          "output_type": "stream",
          "name": "stdout",
          "text": [
            "seu nome é: Raphael sua idade é: 15 Anos e tem 1.76 metros de altura\n"
          ]
        }
      ]
    },
    {
      "cell_type": "code",
      "source": [
        "print(f\"meu nome é {nome}\")"
      ],
      "metadata": {
        "id": "4zh_NfB4sXum"
      },
      "execution_count": null,
      "outputs": []
    },
    {
      "cell_type": "markdown",
      "source": [
        "# Área do circculo\n"
      ],
      "metadata": {
        "id": "cCNKUQmEvb_f"
      }
    },
    {
      "cell_type": "code",
      "source": [
        "PI = 3.14159\n",
        "raio = float(input(\"Digite o valor do raio aqui: \"))"
      ],
      "metadata": {
        "id": "IYqObM4-xNvY"
      },
      "execution_count": null,
      "outputs": []
    },
    {
      "cell_type": "code",
      "source": [
        "areacir = PI * (raio**2)"
      ],
      "metadata": {
        "id": "HwW7QE0Zwb75"
      },
      "execution_count": null,
      "outputs": []
    },
    {
      "cell_type": "code",
      "source": [
        "print(f\"A área do circulo é: {areacir}\")"
      ],
      "metadata": {
        "id": "YwOdt6sbxPux"
      },
      "execution_count": null,
      "outputs": []
    },
    {
      "cell_type": "markdown",
      "source": [
        "#Área do quadrado"
      ],
      "metadata": {
        "id": "mGdOdWlUzqrY"
      }
    },
    {
      "cell_type": "markdown",
      "source": [],
      "metadata": {
        "id": "MpJzS5DW0R_6"
      }
    },
    {
      "cell_type": "code",
      "source": [
        "lado = float(input(\"Digite o valor aqui: \"))\n",
        "area = lado**2\n",
        "\n"
      ],
      "metadata": {
        "id": "nRaiuoKLzvO3"
      },
      "execution_count": null,
      "outputs": []
    },
    {
      "cell_type": "code",
      "source": [
        "print(f\"A Área do quadrado é igual a: {area}\")"
      ],
      "metadata": {
        "colab": {
          "base_uri": "https://localhost:8080/"
        },
        "id": "IYYFOGqA1TUJ",
        "outputId": "6a1a6a12-7623-4726-a836-2c7bc64fa99c"
      },
      "execution_count": null,
      "outputs": [
        {
          "output_type": "stream",
          "name": "stdout",
          "text": [
            "A Área do quadrado é igual a: 196.0\n"
          ]
        }
      ]
    }
  ]
}